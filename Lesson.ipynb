{
  "cells": [
    {
      "cell_type": "markdown",
      "metadata": {
        "id": "PEGn6pPG4KsZ"
      },
      "source": [
        "# Natural Language Processing\n",
        "\n",
        "\n",
        "## Defining Natural Language Processing\n",
        "\n",
        "As we continue further into our content this semester, you have probably noticed that each tool takes us to a new level of being able to conduct analysis with less code. As we progress, we move toward what are called \"higher level\" programming tools. Python itself is a high-level programming language, meaning that it is written in a way that is easier for humans to read than computers, with lots of translation happening behind the scenes.\n",
        "\n",
        "Tools like `pandas` remove a lot of the manual work from data processing. `numpy` and `scipy` handle much of the mathematical and statistical work that we want to do with our data. Natural Language Processing (NLP) is a tool similar to regex, but allowing us to take our text analytics to entirely new levels.\n",
        "\n",
        "Where regex allows us to look for text-based patterns in our words or string content, we want to go further. We want to look for **meaning**-based content. How do I find content that reflects anger? What words are most common in those contexts? What about when the content reflects joy? Sadness? Regex is not enough in these cases, and so we build to an even more powerful tool.\n",
        "\n",
        "NLP is a broad set of tools designed in order to enable users to work with text in ways that a human might work with text. When we work with text, we look for structures like sentences, and within those sentences we look for nouns to tell us who or what is the focus of the content. We look for verbs to understand what is happening. Adjectives and other descriptors help us to better understand the nuances of context. NLP models are trained to recognize these elements in text, and to be able to leverage that content to break text down and provide human users valuable information at a larger scale than would be possible if the document were simply read (slowly) by a human.\n",
        "\n",
        "| Regex | NLP |\n",
        "| --- | --- |\n",
        "| Create patterns to match in text | Identify the structure of text and use that to refine information|\n",
        "| Used to verify or find data | Used to analyze data |\n",
        "| Applies user-defined rules | Relies heavily on ML-based (or other) models |\n",
        "\n",
        "\n",
        "## What NLP can do\n",
        "\n",
        "So what can NLP do for us?\n",
        "\n",
        "### Identify parts of speech\n",
        "\n",
        "When we pass a document (really a string, but typically we provide a fairly large string to an NLP algorithm) to an NLP model, it is able to identify parts of speech (nouns, verbs, etc.). This enables us to quickly break down our text to find various kinds of keywords, and is the first step in many more complex pipelines.\n",
        "\n",
        "### Iterate over sentences\n",
        "\n",
        "NLP can identify sentences within a document. This makes for a powerful iterative tool, as we will be able to define a processing pipeline for each sentence, and then apply that pipeline to as many sentences as exist within our document, without having to write complex code to try and recognize where each sentence starts and ends (this is MUCH harder than it sounds).\n",
        "\n",
        "### Find words used to describe various nouns (or anything else!)\n",
        "\n",
        "Beyond simply identifying parts of speech, NLP models can be used to build a structural dependency tree of each sentence. This structure allows us to associate adjectives with their respective nouns, or adverbs to the verb that they modify. We can explore how various entities are described in our document based on word associations. We can even visualize the structure of the sentence using simple mapping functions.\n",
        "\n",
        "### Filter text for analysis\n",
        "\n",
        "We can use NLP to filter our text. We can look for sentences about a specific entity, or explore other ways of filtering our text in order to create a better understanding of overall patterns in the document.\n",
        "\n",
        "### Conduct sentiment analysis\n",
        "\n",
        "One of the most powerful capabilities resulting from NLP models is the ability to analyze sentiment within the text. Words have the ability to convey literal meanings, as well as the more subtle capacity to convey emotion. By looking for word combinations in our text, NLP models can provide sentiment measurements at the word, sentence, or document level. This provides the ability to sort through texts for specific sentiments to learn about the way in which emotion affects the outcomes we are examining in text. One example might be looking through descriptions for negative emotions, and being able to respond to unhappy customers by flagging negative descriptions.\n",
        "\n",
        "\n",
        "## Implementing NLP models\n",
        "\n",
        "To get started with NLP models, we need to install the right libraries (and a corpus!). The library that we will use is `spacy`, although there are multiple other options available to us. One other common NLP library is `nltk`, the Natural Language Toolkit (NLTK). In my experience NLTK is more commonly employed when someone wants to create their own model from scratch, rather than implement pre-built and optimized NLP models.\n",
        "\n",
        "In addition to a library to conduct NLP, we also rely on a **corpus**. A corpus is essentially a model of a specific language that is built to enable the actual analysis. `spacy` as a library is a general structure that can be implemented on ANY language. The corpus allows us to select a specific language, and a model of that language built on a specific set of information.\n",
        "\n",
        "When we install `spacy`, we will also download the `en_core_web_sm` corpus. This corpus is a small-sized model of the english language, and was trained on web-based data. That means that it will perform best on data drawn from websites, and is not as strong a model for other contexts (like analyzing Pride and Prejudice). That doesn't mean that we can't use in other contexts, but it does suggest that results will not be as refined or accurate."
      ]
    },
    {
      "cell_type": "markdown",
      "metadata": {
        "id": "fKvtV1eg4Ksi"
      },
      "source": [
        "We need to get ourselves some text to analyze before we jump into the NLP world. In true form, here is another favorite old book. We will take a look at the first three chapters of Jane Eyre from [Project Gutenberg](https://www.gutenberg.org/browse/scores/top)."
      ]
    },
    {
      "cell_type": "code",
      "execution_count": null,
      "metadata": {
        "id": "NBaxeQ334Ksj"
      },
      "outputs": [],
      "source": [
        "import requests\n",
        "\n",
        "jane = requests.get(\n",
        "\"https://github.com/dustywhite7/Econ8320/raw/master/AssignmentData/janeEyreCh1to3.txt\"\n",
        ").text"
      ]
    },
    {
      "cell_type": "markdown",
      "metadata": {
        "id": "ijgBdYHz4Ksl"
      },
      "source": [
        "You can take a look at the text to get an idea of what we will be working with. Once you're ready, we will go ahead and import the `spacy` library. The very first thing we do once we import `spacy` is to load the coprus, so that we are able to use its language models to parse our document. Let's run the code, and then discuss what is happening."
      ]
    },
    {
      "cell_type": "code",
      "execution_count": null,
      "metadata": {
        "id": "gUU44YDi4Ksl"
      },
      "outputs": [],
      "source": [
        "import spacy\n",
        "\n",
        "nlp = spacy.load(\"en_core_web_sm\")\n",
        "doc = nlp(jane)"
      ]
    },
    {
      "cell_type": "markdown",
      "metadata": {
        "id": "MV-d46kY4Ksm"
      },
      "source": [
        "### The structure of a parsed document\n",
        "\n",
        "When we create an `nlp` object based on our corpus, we are creating our pipeline for working with text. Our corpus contains all of the information necessary to prepare our data for analysis. When we create our `doc` object, we are passing our document through the processing pipeline. Our new parsed document (`doc` in this case), has some important **attributes**:\n",
        "\n",
        "- `sents` - a generator function to iterate over each sentence in the document\n",
        "- `token` - each individual element of the document\n",
        "    - Elements exist at the word/punctuation level\n",
        "\n",
        "After being processed, our document has been broken down into tokens, and then (to some extent) reconstructed into sentences. Additionally, each token is mapped out in relation to the other tokens within a sentence, and is described using various attributes to inform how that token relates to the text around it."
      ]
    },
    {
      "cell_type": "code",
      "execution_count": null,
      "metadata": {
        "id": "ypNf0pCu4Ksm",
        "colab": {
          "base_uri": "https://localhost:8080/"
        },
        "outputId": "54146e3a-3fd9-48c0-f71e-ffca91b6ca34"
      },
      "outputs": [
        {
          "output_type": "execute_result",
          "data": {
            "text/plain": [
              "['CHAPTER I   There was no possibility of taking a walk that day.',\n",
              " 'We had been wandering, indeed, in the leafless shrubbery an hour in the morning; but since dinner (Mrs. Reed, when there was no company, dined early) the cold winter wind had brought with it clouds so sombre, and a rain so penetrating, that further outdoor exercise was now out of the question.  ',\n",
              " 'I was glad of it: I never liked long walks, especially on chilly afternoons: dreadful to me was the coming home in the raw twilight, with nipped fingers and toes, and a heart saddened by the chidings of Bessie, the nurse, and humbled by the consciousness of my physical inferiority to Eliza, John, and Georgiana Reed.  ',\n",
              " 'The said Eliza, John, and Georgiana were now clustered round their mama in the drawing-room: she lay reclined on a sofa by the fireside, and with her darlings about her (for the time neither quarrelling nor crying) looked perfectly happy.',\n",
              " 'Me, she had dispensed from joining the group; saying, “She regretted to be under the necessity of keeping me at a distance; but that until she heard from Bessie, and could discover by her own observation, that I was endeavouring in good earnest to acquire a more sociable and childlike disposition, a more attractive and sprightly manner—something lighter, franker, more natural, as it were—she really must exclude me from privileges intended only for contented, happy, little children.”  ',\n",
              " '“What does Bessie say I have done?”',\n",
              " 'I asked.  ',\n",
              " '“Jane, I don’t like cavillers or questioners; besides, there is something truly forbidding in a child taking up her elders in that manner.',\n",
              " 'Be seated somewhere; and until you can speak pleasantly, remain silent.”  ',\n",
              " 'A breakfast-room adjoined the drawing-room, I slipped in there.']"
            ]
          },
          "metadata": {},
          "execution_count": 5
        }
      ],
      "source": [
        "test = [i.text.replace('\\n', ' ') for i in doc.sents][:10]\n",
        "# print first 10 sentences, replacing newlines with spaces\n",
        "\n",
        "test\n"
      ]
    },
    {
      "cell_type": "markdown",
      "metadata": {
        "id": "rloMD_aD4Ksn"
      },
      "source": [
        "### Understanding tokens\n",
        "\n",
        "Recall that each word is represented as a token in the processed document. These tokens are immensely powerful. They are the word, but also more than that. Words in the English language are often modified based on context. Verbs are conjugated, nouns may be plural, among many possibilities. Each word is **tokenized** through our corpus in order to identify the underlying word.\n",
        "\n",
        "This is important, because we might want to look for each instance of a single word in our corpus. Let's say that we want to find every instance of \"eat\". If we look for \"eat\", we want to make sure that \"eats\" and \"ate\", as well as \"eating\" and other forms are all considered. This is where tokenization becomes critical. Each token contains the text value from the original document, but also the **lemmatized** word. The lemma is the base form of the word, allowing us to search for lemmas rather than the text word. This streamlines our ability to analyze text by focusing on lemmas rather than unprocessed text.\n",
        "\n",
        "Other valuable attributes are also associated with our tokens:\n",
        "- `lemma_` - the \"root word\" from which a token/word is derived\n",
        "- `pos_` - the part of speech of a token/word\n",
        "- `dep_` - the relationship of dependent tokens to the parent token (adjectives to nouns, etc.)\n",
        "- `like_email`/`like_num`/`like_url` - check if a token is like an email, number, or url (unlikely in Jane Eyre)\n",
        "\n",
        "Let's look at the first 100 non-space, non-punctuation lemmas in Jane Eyre:"
      ]
    },
    {
      "cell_type": "code",
      "execution_count": null,
      "metadata": {
        "id": "tUpFyBRV4Kso",
        "colab": {
          "base_uri": "https://localhost:8080/"
        },
        "outputId": "bb17fb23-78cb-46ec-ba28-f1d5b6424e44"
      },
      "outputs": [
        {
          "output_type": "stream",
          "name": "stdout",
          "text": [
            "[('chapter', 'CHAPTER'), ('I', 'I'), ('there', 'There'), ('be', 'was'), ('no', 'no'), ('possibility', 'possibility'), ('of', 'of'), ('take', 'taking'), ('a', 'a'), ('walk', 'walk'), ('that', 'that'), ('day', 'day'), ('we', 'We'), ('have', 'had'), ('be', 'been'), ('wander', 'wandering'), ('indeed', 'indeed'), ('in', 'in'), ('the', 'the'), ('leafless', 'leafless'), ('shrubbery', 'shrubbery'), ('an', 'an'), ('hour', 'hour'), ('in', 'in'), ('the', 'the'), ('morning', 'morning'), ('but', 'but'), ('since', 'since'), ('dinner', 'dinner'), ('Mrs.', 'Mrs.'), ('Reed', 'Reed'), ('when', 'when'), ('there', 'there'), ('be', 'was'), ('no', 'no'), ('company', 'company'), ('dine', 'dined'), ('early', 'early'), ('the', 'the'), ('cold', 'cold'), ('winter', 'winter'), ('wind', 'wind'), ('have', 'had'), ('bring', 'brought'), ('with', 'with'), ('it', 'it'), ('cloud', 'clouds'), ('so', 'so'), ('sombre', 'sombre'), ('and', 'and'), ('a', 'a'), ('rain', 'rain'), ('so', 'so'), ('penetrate', 'penetrating'), ('that', 'that'), ('further', 'further'), ('outdoor', 'outdoor'), ('exercise', 'exercise'), ('be', 'was'), ('now', 'now'), ('out', 'out'), ('of', 'of'), ('the', 'the'), ('question', 'question'), ('I', 'I'), ('be', 'was'), ('glad', 'glad'), ('of', 'of'), ('it', 'it'), ('I', 'I'), ('never', 'never'), ('like', 'liked'), ('long', 'long'), ('walk', 'walks'), ('especially', 'especially'), ('on', 'on'), ('chilly', 'chilly'), ('afternoon', 'afternoons'), ('dreadful', 'dreadful'), ('to', 'to'), ('I', 'me'), ('be', 'was'), ('the', 'the'), ('come', 'coming'), ('home', 'home'), ('in', 'in'), ('the', 'the'), ('raw', 'raw'), ('twilight', 'twilight'), ('with', 'with'), ('nip', 'nipped'), ('finger', 'fingers'), ('and', 'and'), ('toe', 'toes'), ('and', 'and'), ('a', 'a'), ('heart', 'heart'), ('sadden', 'saddened'), ('by', 'by'), ('the', 'the')]\n"
          ]
        }
      ],
      "source": [
        "lemmas100 = [(i.lemma_, i.text) for i in doc if (not i.is_punct) and (not i.is_space)][:100]\n",
        "\n",
        "print(lemmas100) # The lemma comes first, followed by the actual word in the text."
      ]
    },
    {
      "cell_type": "markdown",
      "metadata": {
        "id": "fIjD0oHc4Kso"
      },
      "source": [
        "We can also filter words by part of speech using the `pos_` attribute of our tokens. Let's look for the first 100 nouns in the text."
      ]
    },
    {
      "cell_type": "code",
      "execution_count": null,
      "metadata": {
        "id": "ySIhS9K-4Ksp",
        "colab": {
          "base_uri": "https://localhost:8080/"
        },
        "outputId": "1098bbb9-d1c0-43e0-f351-2c927d02ab96"
      },
      "outputs": [
        {
          "output_type": "stream",
          "name": "stdout",
          "text": [
            "['CHAPTER', 'possibility', 'walk', 'day', 'leafless', 'shrubbery', 'hour', 'morning', 'dinner', 'company', 'winter', 'wind', 'clouds', 'sombre', 'rain', 'exercise', 'question', 'walks', 'afternoons', 'home', 'twilight', 'fingers', 'toes', 'heart', 'chidings', 'nurse', 'consciousness', 'inferiority', 'mama', 'drawing', 'room', 'sofa', 'fireside', 'darlings', 'time', 'crying', 'group', 'necessity', 'distance', 'observation', 'earnest', 'disposition', 'manner', 'franker', 'privileges', 'children', 'Bessie', 'cavillers', 'questioners', 'child', 'elders', 'manner', 'breakfast', 'room', 'drawing', 'room', 'bookcase', 'volume', 'care', 'pictures', 'window', 'seat', 'feet', 'curtain', 'retirement', 'drapery', 'view', 'hand', 'panes', 'glass', 'day', 'intervals', 'leaves', 'book', 'aspect', 'winter', 'afternoon', 'blank', 'mist', 'scene', 'lawn', 'storm', 'beat', 'shrub', 'rain', 'blast', 'book', 'History', 'letterpress', 'pages', 'child', 'blank', 'haunts', 'sea', 'fowl', 'rocks', 'promontories', 'coast', 'isles', 'extremity']\n"
          ]
        }
      ],
      "source": [
        "nouns = [i.text for i in doc if i.pos_=='NOUN'][:100]\n",
        "\n",
        "print(nouns) # The lemma comes first, followed by the actual word in the text."
      ]
    },
    {
      "cell_type": "markdown",
      "metadata": {
        "id": "fzWvOdWf4Ksp"
      },
      "source": [
        "Pretty cool! If you look through that list, you'll see that there are a lot of different kinds of nouns. Two that stood out to me are \"drawing\" and \"room\"... oh wait... that's ONE NOUN that is two words! And leads us right into **noun chunks**. ;)\n",
        "\n",
        "Sometimes, you want to be able to see a \"complete\" noun, and noun chunks are the tool to use!"
      ]
    },
    {
      "cell_type": "code",
      "execution_count": null,
      "metadata": {
        "id": "2mFOjvRZ4Ksp",
        "colab": {
          "base_uri": "https://localhost:8080/"
        },
        "outputId": "3d122286-1808-44f3-957e-21a6f0222c1d"
      },
      "outputs": [
        {
          "output_type": "stream",
          "name": "stdout",
          "text": [
            "['I', 'no possibility', 'a walk', 'We', 'the leafless shrubbery', 'the morning', 'dinner', 'Mrs. Reed', 'no company', 'the cold winter wind', 'it', 'clouds', 'a rain', 'further outdoor exercise', 'the question', 'I', 'it', 'I', 'long walks', 'chilly afternoons', 'me', 'the coming home', 'the raw twilight', 'nipped fingers', 'toes', 'a heart', 'the chidings', 'Bessie', 'the nurse', 'the consciousness', 'my physical inferiority', 'Eliza', 'John', 'Georgiana Reed', 'The', 'Eliza', 'John', 'Georgiana', 'their mama', 'the drawing-room', 'she', 'a sofa', 'the fireside', 'her darlings', 'her', 'the time', 'crying', 'she', 'the group', 'She', 'the necessity', 'me', 'a distance', 'she', 'Bessie', 'her own observation', 'I', 'good earnest', 'a more sociable and childlike disposition', 'something', 'it', 'she', 'me', 'privileges', 'contented, happy, little children', 'Bessie', 'I', 'I', 'I', 'cavillers', 'questioners', 'something', 'a child', 'her elders', 'that manner', 'you', 'A breakfast-room', 'the drawing-room', 'I', 'It', 'a bookcase', 'I', 'myself', 'a volume', 'care', 'it', 'pictures', 'I', 'the window-seat', 'my feet', 'I', 'a Turk', 'the red moreen curtain', 'I', 'double retirement', 'Folds', 'scarlet drapery', 'my view', 'the right hand', 'the clear panes']\n"
          ]
        }
      ],
      "source": [
        "nouns = [i.text.replace('\\n', ' ') for i in doc.noun_chunks][:100] # getting rid of new lines in our noun chunks\n",
        "\n",
        "print(nouns)"
      ]
    },
    {
      "cell_type": "markdown",
      "metadata": {
        "id": "X22I8C974Ksq"
      },
      "source": [
        "That's better. Noun chunks include all of the modifiers for a given noun, and make it easier to build a more complete understanding of the references being made. Why do we care? Because \"the red moreen curtain\" is the object, and we want to be sure to understand the implication of the full object, rather than only the word within the noun chunk that is actually a noun.\n",
        "\n",
        "If we want to understand more about the nature of the relationships between words within a sentence, we can plot a dependency tree.\n",
        "\n",
        "**NOTE: When you run the following code, be sure to click the STOP button when you're done, or no other code will run! The renderer for the dependency tree will keep running until you terminate it!**"
      ]
    },
    {
      "cell_type": "code",
      "execution_count": null,
      "metadata": {
        "id": "9FmjHQC24Ksq"
      },
      "outputs": [],
      "source": [
        "from spacy import displacy\n",
        "\n",
        "sent = [i for i in doc.sents][100]\n",
        "displacy.serve(sent, style=\"dep\")"
      ]
    },
    {
      "cell_type": "markdown",
      "metadata": {
        "id": "TnGJJYJx4Ksq"
      },
      "source": [
        "Using this mapping, we can see each of the clauses of the sentence, and how words within the sentence relate to one another. The mapping can help us to understand whether or not we have correctly identified parts of speech that are associated with the topics we are trying to uncover in our code.\n",
        "\n",
        "\n",
        "## Sentiment Analysis\n",
        "\n",
        "My personal favorite part of NLP, sentiment analysis is a very powerful instrument for understanding text and creating actionable items. Many firms use sentiment analysis in combination with their social media accounts to measure engagement and understand how successful marketing campaigns or other interactions are with target audiences.\n",
        "\n",
        "In order to conduct sentiment analysis using spacy, we are going to use a library called `spacytextblob`. This library includes supplemental material that expands the english corpus' ability to process our data. When utilized, `spacytextblob` is going to add sentiment analysis models to the general pipeline created through `spacy`.\n",
        "\n",
        "We can incorporate the `SpacyTextBlob` process into our pipeline like this:"
      ]
    },
    {
      "cell_type": "markdown",
      "metadata": {
        "id": "foYZEZRR4Ksr"
      },
      "source": [
        "We can add code to our processing pipeline using the `nlp.add_pipe()` method on our `nlp` object. In this case, we are adding the sentiment analysis information created through `SpacyTextBlob`, but this can be literally anything. We can create any kind of function that we want to implement on our code, and can add that functionality to our pipeline in the same way. More examples are available in the `spacy` [documentation](https://spacy.io/usage/processing-pipelines#pipelines).\n",
        "\n",
        "If you want to get more in-depth with NLP, I highly recommend that you explore the course material available through `spacy`'s own NLP curriculum (freely available!): https://course.spacy.io/en/"
      ]
    },
    {
      "cell_type": "markdown",
      "metadata": {
        "id": "GZ1qQ_8G4Ksr"
      },
      "source": [
        "## Solve it!\n",
        "\n",
        "In this project, you will use the text from chapters 44 and 45 of *Pride and Prejudice*. Please find the following information:\n",
        "\n",
        "- The number of sentences (store as `int` in a variable named `sentences`)\n",
        "- A list of all proper nouns used across the two chapters (stored as strings in the `names` variable)\n",
        "- A DataFrame containing a count of the top 20 adjectives used in the text (stored in the `adjectives` variable)\n",
        "    - Be sure to make all words lower case ONLY!\n",
        "- A bar chart of the top 20 adjectives used in the text stored in a variable called `fig`\n",
        "\n",
        "\n",
        "Place all of your code in the cell below, labeled `#si-exercise`."
      ]
    },
    {
      "cell_type": "code",
      "execution_count": 3,
      "metadata": {
        "id": "fzNnHSwT4Ksr"
      },
      "outputs": [],
      "source": [
        "#si-exercise\n",
        "import plotly.express as px\n",
        "import pandas as pd\n",
        "import requests\n",
        "import spacy\n",
        "\n",
        "PaP = requests.get(\"https://github.com/dustywhite7/Econ8320/blob/master/AssignmentData/prideAndPrejudiceChapters.txt\").text\n",
        "nlp = spacy.load(\"en_core_web_sm\")\n",
        "doc = nlp(PaP)\n",
        "\n",
        "sentences = int(PaP.count('. '))\n",
        "\n",
        "names = list(set([token.text for token in doc if token.pos_ == \"PROPN\"]))\n",
        "\n",
        "ADJ = [token.text.lower() for token in doc if token.pos_ == \"ADJ\"]\n",
        "ADJCount = pd.Series(ADJ).value_counts().head(20)\n",
        "ADJdf = pd.DataFrame({\"Adjective\": ADJCount.index, \"Count\": ADJCount.values})\n",
        "\n",
        "fig = px.bar(ADJdf, x = \"Adjective\", y = \"Count\", title = \"Top 20 Adjectives in Chapters 44 and 45 of Pride and Prejudice\")"
      ]
    },
    {
      "cell_type": "code",
      "source": [
        "print(\"Number of sentences:\", sentences)\n",
        "print(\"List of proper nouns:\", names)\n",
        "print(\"Top 20 Adjectives:\", ADJ)"
      ],
      "metadata": {
        "id": "UBeuvN4x3m_2",
        "colab": {
          "base_uri": "https://localhost:8080/"
        },
        "outputId": "e7c8cb29-c919-4de8-98be-2b59e30c412b"
      },
      "execution_count": 4,
      "outputs": [
        {
          "output_type": "stream",
          "name": "stdout",
          "text": [
            "Number of sentences: 125\n",
            "List of proper nouns: ['for=\"custom_scope_query\">Query</label', '1.23-.54', 'Manage', 'B_VBIleR6RGuPS2mLuTX-3yjrf_UGYtt3FZqiACug6ReaYOUYt', 'some\",\"time', 'contented\",\"himself', 'towards\",\"each', '\",\"\",\"While', '0-.75-.25', 'c92a-48ee-8ada', 'span', 'Automation', '\"],\"stylingDirectives\":[[],[],[],[],[],[],[],[],[],[],[],[],[],[],[],[],[],[],[],[],[],[],[],[],[],[],[],[],[],[],[],[],[],[],[],[],[],[],[],[],[],[],[],[],[],[],[],[],[],[],[],[],[],[],[],[],[],[],[],[],[],[],[],[],[],[],[],[],[],[],[],[],[],[],[],[],[],[],[],[],[],[],[],[],[],[],[],[],[],[],[],[],[],[],[],[],[],[],[],[],[],[],[],[],[],[],[],[],[],[],[],[],[],[],[],[],[],[],[],[],[],[],[],[],[],[],[],[],[],[],[],[],[],[],[],[],[],[],[],[],[],[],[],[],[],[],[],[],[],[],[],[],[],[],[],[],[],[],[],[],[],[],[],[],[],[],[],[],[],[],[],[],[],[],[],[],[],[],[],[],[],[],[],[],[],[],[],[],[],[],[],[],[],[],[],[],[],[],[],[],[],[],[],[],[],[],[],[],[],[],[],[],[],[],[],[],[],[],[],[],[],[],[],[],[],[],[],[],[],[],[],[],[],[],[],[],[],[],[],[],[],[],[],[],[],[],[],[],[],[],[],[],[],[],[],[],[],[],[],[],[],[],[],[],[],[],[],[],[],[],[],[],[],[],[],[],[],[],[],[],[],[],[],[],[],[],[],[],[],[],[],[],[],[],[],[],[],[],[],[],[],[],[],[],[],[],[],[],[],[],[],[],[],[],[],[],[],[],[],[],[],[],[],[],[],[],[],[],[],[],[],[],[],[],[],[],[],[],[],[],[],[],[],[],[],[],[],[],[],[],[],[],[],[],[],[],[],[],[],[],[],[],[],[],[],[],[],[],[],[],[],[],[],[],[],[],[],[],[],[],[],[],[],[],[],[],[],[],[],[],[],[],[]],\"colorizedLines\":null,\"csv\":null,\"csvError\":null,\"dependabotInfo\":{\"showConfigurationBanner\":false,\"configFilePath\":null,\"networkDependabotPath\":\"/dustywhite7', '2.75v5.5c0', 'contacted</label', 'Sponsors&quot;,&quot;label&quot;:&quot;ref_cta', 'relations\",\"at', 'Source', 'crossorigin', 'primer-44fa1513ddd0.css', 'esm_AnchoredOverlay_AnchoredOverlay_js-61314bd0d65c.js\"></script', 'from\",\"Elizabeth', '3.04a.749.749', 'node_modules_github_remote', 'style=\"z', 'dialog', 'Discussions;&quot', 'Button', 'scopes.customScopesSubmitButton', '-', 'class=\"FormControl', 'width=\"16', 'pb', '1c.966', 'octicon', 'react_dist_index_esm_mjs', 'h4\">Codespaces</div', '1.707a.749.749', '.346-.102.683-.294.97l-1.703', '15h-5.19a1.75', 'height=\"12', 'ba1d', 'itemtype=\"http://schema.org', 'name=\"route', 'She_\",\"a', 'Teams&quot;,&quot;label&quot;:&quot;ref_cta', 'h4\">Actions</div', 'border-0', '\",\"\",\"He', 'name=\"github', 'workflow', '0-.354', 'Progress', 'Pemberley', 'tone\",\"which', 'true\",\"showPublishActionBanner\":false},\"rawBlobUrl\":\"https://github.com', 'px', 'class=\"mx-2', 'id=\"codespaces', 'Wickham', 'content=\"95447250', 'new?marketplace', 'd=\"m8.533.133', 'custom_scopes', 'react_dist_index_esm_js', '4.21.612a.75.75', '3.368.397-.406.89-.717', '1.902-.394', 'd=\"M0', 'pr', 'copy', 'Miss\",\"Bingley', 'type=\"label', 'events_dist_index_js', 'id=\"item', 'Webinars&quot;,&quot;label&quot;:&quot;ref_cta', 'publish_action_from_dockerfile\",\"releasePath\":\"/dustywhite7', 'ui_packages_hydro', 'version', 'Actions&quot;,&quot;label&quot;:&quot;ref_cta', 'Packages&quot;,&quot;label&quot;:&quot;ref_cta', '\",\"\",\"She', '1.429a.25.25', 'devsecops/', 'Partners&quot;,&quot;label&quot;:&quot;ref_cta', 'm-2', 'their\",\"arrival', 'whole\",\"party', 'opacity=\"0.5', 'polyfill_dist_smoothscroll_js', '0-.174.237V7c0', 'h4\">Code', 'esm_FormControl_FormControl_js-2a0ace3735a5.js\"></script', 'Topics;&quot', '7V3H5v4Zm-1', '0L1.698', 'anything\",\"extraordinary', 'branches\":{\"post\":\"xbIzkqwowUJZxseAI9lxqQvYlJQ7J4wmgCfHa5eQ-3B2OauTKu3rzqAh3EJhz7wU34yYYnEpOx_hfYyrkld1uQ\"},\"/repos', 'Star', 'Header', 'Packages;&quot', 'left-0', 'my-1\"></div', 'app_assets_modules_github_behaviors_ht-83c235', 'ui_packages', 'removed\",\"from', 'Trending', 'Sizer', 'd=\"M2.343', 'esm_Bre', '05fd80a7ea89.js\"></script', 'ci', 'Startups', '0L10.811', '1.25ZM7.25', 'DevSecOps;&quot', 'id=\"globe', '1.75V13.5h13.75a.75.75', 'above\",\"mentioned', '>', 'class=\"ClipboardButton', '10V4.976a.25.25', 'Automation;&quot', 'of\",\"Elizabeth', '/template', 'been\",\"given', '15.035c-4.562', 'Open', 'dependabot_configuration_notice\",\"configurationNoticeDismissed\":null},\"displayName\":\"prideAndPrejudiceChapters.txt\",\"displayUrl\":\"https://github.com', 'but\",\"a', 'class=\"js', '0l-.008-.004-.018-.01a7.152', 'd=\"M1.5', 'Mrs.', 'b4a646a773af.js\"></script', 'Elizabeth', 'up;ref_loc', 'hostname', '1.75v7.5A1.75', 'Search', 'for=\"action', 'div', 'hx_rsm', 'id=\"pull', 'still\",\"felt', 'assignment8Data.csv\",\"contentType\":\"file\"},{\"name\":\"exampleData.db\",\"path\":\"AssignmentData', 'Partners;&quot', 'scopes#customScopesCancel', 'node_modules_github_catalyst_lib_index_js-06ff531', 'value=\"JuNG4mJx8ZkDydCo8DxK3JDUDGSLiXDSkkRNSrt1BhwvzV2NHc3NATIJBpJHZDLy4jpmtpjC', '_', 'href=\"https://www.githubstatus.com/', 'co-27181b-3509ed8075c4.js\"></script', 'Skills&quot;,&quot;label&quot;:&quot;ref_cta', 'd2345aaf09af.js\"></script', 'dimensions=\"link_type', '6c531df15c0e', '1.084-.254', 'className', 'expanded=\"false', '2a.75.75', 'content=\"https://collector.github.com', 'name=\"hostname', 'prefetch', '2.75v4c0', '2.944-.765', 'esm_ActionList_index_js', '=', 'before\",\"them', '4.682-.983', 'content=\"Code\">Code</span', '\",\"\",\"It', '.608-.315', '3.65-.88', 'dialog></div', 'Skills', 'SoftwareSourceCode', 'ebd80a289a23.js\"></script', 'repository_network_root_id', '1.03L9.22', 'f6', 'prideAndPrejudiceChapters.txt', 'property=\"og', 'Collections&quot;,&quot;label&quot;:&quot;ref_cta', '9.75A.75.75', 'class=\"flex', 'content=\"Security\">Security</span', '12.347l-3.766', 'js', 'dark_high_contrast', '0l1.086', 'Overlay', 'button&quot;,&quot;repository_id&quot;:95447250,&quot;auth_type&quot;:&quot;LOG_IN&quot;,&quot;originating_url&quot;:&quot;https://github.com', 'm-0', 'name=\"viewport', 'himself;\",\"but', 'code', 'href=\"/pricing\">Pricing</a', 'requests</span', 'them\",\"both', 'not,\",\"it', 'leadingVisualWrap', 'action=\"/search', 'Link\">Status</a', '1.92-.08', 'ruby', 'd=\"M3.5', 'lg-0', 'class=\"QueryBuilder', '0-.67-.22', '1.75V3h3V1.75a.25.25', 'd2c4d643d9fb.js\"></script', '2.75A2.75', '1-.872', 'mr-1\">Public</span', '\",\"It', '2.75C1', '0-.003.01l.001.006c0', 'd=\"M14.25', 'Solution</span', 'd=\"m12.54.637', 'placeholder=\"github', 'd=\"M7.467.133a1.748', 'events_dist_inde-893f9f', 'notion\",\"that', 'Hertfordshire', '4h3.204c.288-.338.59-.665.904-.979l.459-.458A8.749', 'esm_Dialog_js', 'd=\"M8', 'Startups;&quot', 'Econ8320\",\"appPayload\":{\"helpUrl\":\"https://docs.github.com\",\"findFileWorkerPath\":\"/assets', 'Link\">Security</a', 'Learning', '14H1.75A1.75', 'href=\"https://github.com/', 'of\",\"November', '\",\"\",\"As', 'assignment2Data.csv\",\"contentType\":\"file\"},{\"name\":\"assignment8Data.csv\",\"path\":\"AssignmentData', 'and,\",\"on', 'esm_TooltipV2_Tooltip_js', 'privacy&quot', 'dc99d916bf90.css', 'ReadME', 'Input', 'meta', 'labelledby=\"tooltip-649e1419', 'Lambton', 'tabindex=\"0', 'prideAndPrejudiceChapters.txt&quot;,&quot;user_id&quot;:null', 'ul', 'Ebooks', '0a8', 'embarrassment\",\"of', 'Georgiana', 'b', 'id=\"play', 'inTextBlock', 'cd/', 'White', 'far\",\"as', 'c6330ce6adcd', '1.738-.899', 'style=\"width', '6.75C0', 'content=\"Econ8320', 'Webinars;&quot', 'Stories', 'Bingley,\",\"and', 'always\",\"wise', 'Fork', 'class=\"mt-0', 'width=\"32', '1.1-.16', 'Customer', 'Stories&quot;,&quot;label&quot;:&quot;ref_cta', 'id=\"issue', 'out&quot', 'DOCTYPE', 'light_tritanopia-222bf22536c7.css', 'QueryBuilder', 'id=\"organization', 'app_assets_modules_github_behaviors_task', '1.68a.251.251', 'content=\"no', '2.584l-.018.01-.006.003h-.002ZM4.25', 'features&quot;,&quot;label&quot;:&quot;ref_cta', 'bd8666de6779.js\"></script', 'status_index_ts', 'py-3', '1-.75-.75V14h-1v1.25a.75.75', 'hmac=\"2cac0fd8ae306db15fd7af4f0fed3ba7d67ca845aeb9deb419a077e0a7fd8783', 'general\",\"complaisance', 'that\",\"it', 'id=\"tooltip-649e1419', 'Bingley', 'some\",\"satisfaction', 'lg-7', '2.75v9.5c0', 'Sponsors;&quot', 'Trending;&quot', '2.97.719', '0Z\"></path', '.138.112.25.25.25h4.5Zm1.5', 'was\",\"so', 'type=\"image', 'head', 'h4\">Packages</div', 'd=\"M3', 'lg-3', '0l3.396', 'there\",\"with', 'HeaderMenu', 'b964b4', 'top-0', '0h8.75a.75.75', '3.297C13.225', '1.179-.705', 'ad6a9a567cec.js\"></script', 'd=\"M5', 'primitives-0b5bee5c70e9.css', 'review&quot;,&quot;label&quot;:&quot;ref_cta', 'da40849d-192d-4f88', 'input#handleDialogClose', 'contact&quot;,&quot;label&quot;:&quot;text', 'h4\">Discussions</div', 'DevSecOps&quot;,&quot;label&quot;:&quot;ref_cta', 'StyledInput', 'tab&quot;,&quot;label&quot;:&quot;Code&quot;,&quot;target&quot;:&quot;UNDERLINE_NAV.TAB&quot', 'flex-1\"></div', 'https%3A%2F%2Fgithub.com%2Fdustywhite7%2FEcon8320%2Fblob%2Fmaster%2FAssignmentData%2FprideAndPrejudiceChapters.txt\",\"isCSV\":false,\"isRichtext\":false,\"toc\":null,\"lineInfo\":{\"truncatedLoc\":\"393\",\"truncatedSloc\":\"349\"},\"mode\":\"file\"},\"image\":false,\"isCodeownersFile\":null,\"isPlain\":false,\"isValidLegacyIssueTemplate\":false,\"issueTemplate\":null,\"discussionTemplate\":null,\"language\":\"Text\",\"languageID\":372,\"large\":false,\"planSupportInfo\":{\"repoIsFork\":null,\"repoOwnedByCurrentUser\":null,\"requestFullPath\":\"/dustywhite7', '0a1', 'UnderlineNav', '5.372v.878c0', 'dark', 'github', '1.784.784', 'site_name', 'd=\"m8.878.392', '0-.003-.01l-1.703', 'scope=\"repo', '3h.5a.75.75', 'Security&quot;,&quot;label&quot;:&quot;ref_cta', 'Terms&quot;,&quot;label&quot;:&quot;text', 'these\",\"newly', '7.322a3.752', 'class=\"Label', 'Discussions&quot;,&quot;label&quot;:&quot;ref_cta', '10.324.004', '0', 'eb52', 'btn', 'path', 'up&quot;,&quot;action&quot;:&quot;click', '3a2', 'content=\"Projects\">Projects</span', 'd=\"M11', 'All\",\"Elizabeth', 'content=\"https://opengraph.githubassets.com', '1.172-.833', 'little\",\"in', 'equalled,\",\"by', '.002.002.004.004.006l.006.004.007.001h10.964l.007-.001.006-.004.004-.006.001-.007a.017.017', 'id=\"issues', 'fd8396d2490b.js\"></script', 'ActionListContent', '0-.326', 'CD', '\",\"\",\"To', 'class=\"Counter\"></span', 'id=\"feedback\"></textarea', 'width=\"24', 'Stories;&quot', 'observer_dist_index_esm_js-9f960d9b217c.js\"></script', 'shortcuts\"}}</script', 'sm', '1.474-.952', '1.232.268.318.497.668.68', 'node_modules_github_jtml_lib_index_js-95b84ee6bc34.js\"></script', 'content=\"Insights\">Insights</span', 'many\",\"of', 'Issues;&quot', '9a.75.75', '12.75v-4c0-.358.109-.707.314', 'rel=\"alternate', 'app_assets_modules_github_behaviors_include-2e2258', 'elements-34cbf079a4f4.js\"></script', 'jA_wBFyT4uMY', '8l-3.72', 'Spanish', '11.25c0-.966.784', 'she\",\"had', '.215-.734l1.47', 'Instant', 'id=\"include_email', 'b6320cd2', '9f3636b94e7e.js\"></script', 'Topics', '1.358A.25.25', 'saying\",\"more', 'check_name', 'aunt', '2.074-.866', 'name=\"include_email', 'light_high_contrast-4c72a7f3b765.css', 'content=\"/&lt;user', 'repository_is_fork', 'hotkey=\"g', 'error_ts', 'lang', 'Documentation', 'label=\"You', 'Project;&quot', 'd=\"M3.5.5h12c1.7', 'id=\"pencil', 'query', 'rel=\"icon', 'prideAndPrejudiceChapters.txt\",\"contentType\":\"file\"},{\"name\":\"stateCodesUS.csv\",\"path\":\"AssignmentData', 'Enterprise&quot;,&quot;label&quot;:&quot;ref_cta', 'class=\"sr', '1.32-.27', 'no', 'app_assets_modules_github_onfocus_ts', 'contact&quot', 'DevOps;&quot', 'Security;&quot', 'box', 'light_colorblind-3c798f5a8bef.css', 'd', 'repository_id', '1.75C0', 'id=\"icon', 'sessions-79965e14c681.js\"></script', 'svg', 'that\",\"such', 'href=\"https://github.githubassets.com', 'label=\"10', 'necessity\",\"of', '1a1.739', '1-.765', '”\",\"\",\"In', 'Box', 'data', '0-.857', 'attribution_index_ts', 'github-07f750db5d7c.css', '2h-6.5a2', 'cf44949b1100.js\"></script', 'expressing\",\"their', 'list_ts', 'cb996b1b8e38.js\"></script', 'rel=\"dns', 'dark_colorblind-0a83868d0e43.css', 'node_modules_stacktrace', '14.25.345.666a.75.75', '1.516l-8.25', 'input.inputButton', 'janeEyreCh1to3.txt\",\"contentType\":\"file\"},{\"name\":\"prideAndPrejudiceChapters.txt\",\"path\":\"AssignmentData', '5.22a.749.749', '2.75v8.5c0', '1.75v2c0', 'dinner\",\"at', '\",\"\",\"By', 'tabindex=\"-1', 'Louisa', 'content=\"GitHub', '1-.314', 'bent\",\"on', '2a2', 'Saved', 'Actions', 'heading\">Repositories</span', 'from\",\"those', 'modal=\"true', 'width=\"22', '1.13.01', 'label=\"Toggle', 'json', '0v-7.5a.75.75', '4.25V1.5H5.75a.25.25', '--><!--', 'opinion\",\"of', 'textarea', 'cb47f7ec7ea323ae35129282877c86faaecacf620e3adb93428ae29f73eeea5a', 'key=', 'label', 'my-1\"></div></span', 'Bingley\",\"was', 'Education;&quot', '16h-3.5A1.75', 'mt', 'e55780ce0aba.js\"></script', 'Darcy', 'Codespaces;&quot', 'href=\"https://github.com', '5a1', 'Gardiner', '1.042L6.94', 'in\",\"London', 'theme=\"light_tritanopia', 'disquiet,\",\"she', 'id=\"snippet', '0-.27.01', '<', 'ui_packages_alive_alive_ts', 'links=\"repo_graphs', 'Mr.', 'href=\"https://github', '1-.565', 'itemscope', '4h.5a.75.75', 'docs&quot', 'account&quot;,&quot;label&quot;:&quot;ref_page:/&lt;user', 'html', 'content=\"github.com', '26T13:05:39.000Z\",\"ownerAvatar\":\"https://avatars.githubusercontent.com', 'following\",\"morning', 'd=\"M2', 'Trending&quot;,&quot;label&quot;:&quot;ref_cta', 'ui_packages_paths_index_ts', 'link', 'type=\"text', 'amp', 'right-0', 'id=\"search', '0V5a1', 'Copilot;&quot', '2.456a.749.749', 'd=\"M12.78', '1.75v12.5c0', '9285faa0e011.js\"></script', 'd=\"M4', '1.148-.254', 'Code', 'href=\"/login?return_to=%2Fdustywhite7%2FEcon8320', 'mb', 'security&quot', 'AssignmentData', 'title=\"0', 'Militia', 'id=\"project', 'type=\"button', 'mGuI8%2FFElePRe4z89kEs%2BQ%3D%3D&quot', '0h12.5C15.216', 'b7b55ea81753', 'maxlength=\"500', 'fa69f138fe8d.css', 'name=\"request', '1.75c.017-.137-.097-.25-.235-.25h-3.5c-.138', 'Econ8320\">Econ8320</a', '0l-8.25', 'class=\"mr-2', 'id=\"shield', 'width', 'Details', 'nearer', '1.75v4c0', 'id=\"fork', 'Codespaces&quot;,&quot;label&quot;:&quot;ref_cta', 'class=\"zeroclipboard', 'exampleData.db\",\"contentType\":\"file\"},{\"name\":\"janeEyreCh1to3.txt\",\"path\":\"AssignmentData', 'navigation</h3', '1h4.253c1.227', 'content=\"GXs5KoUUkNCoaAZn7wPN', 'd=\"M23.922', 'GitHub', 'c', 'Longbourn', 'icon', '0Zm.875', 'href=\"https://docs.github.com', 'Pricing&quot;,&quot;label&quot;:&quot;ref_cta', 'c1d9496197fa.css', 'name=\"browser', 'parser_dist_stack-443cd5', 'order-2', 'Solutions&quot;,&quot;action&quot;:&quot;click', 'Link\">Docs</a', 'class=\"Button', 'none\">Toggle', 'label=\"Global', '1.06l-2.908', 'Startups&quot;,&quot;label&quot;:&quot;ref_cta', 'app_ass-421cec-9de4213015af.js\"></script', 'Collections;&quot', 'li', 'much\",\"in', 'dark-1ee85695b584.css', 'href=\"/manifest.json', 'content=\"1200', 'features;&quot', 'e265', 'Hurst', 'user_id', 'fc73c928', 'class=\"HeaderMenu', '2.25h-1.5v2.128a2.251', 'heading\">Resources</span', 'f5', 'connected\",\"with', 'When\",\"Darcy', 'when\",\"she', 'Documentation&quot;,&quot;label&quot;:&quot;ref_cta', 'lib-1fbfc5be2c18.js\"></script', 'name=\"custom_scope_id', 'node_modules_primer_behaviors_dist_esm_focus', '0l-.622-.621A2.25', 'for=\"custom_scope_name\">Name</label', '0c2.245-.957', 'collected\",\"them', 'navigation</span', 'x98H0j5cPqHWwSMm6dNU4GmODRoqxLiDzdx9I', 'eb91f98e501d.js\"></script', 'DevSecOps', '0h5.586c.464', '1.36.275', 'src=&quot;/_esi', '0L2.22', 'and\",\"to', '1.49l-2.774', '14h-8.5A1.75', 'content=\"Actions\">Actions</span', 'Issues&quot;,&quot;label&quot;:&quot;ref_cta', 'rails_csrf_token_form_hidden?r', 'name&gt;/blob', 'title=\"10', 'links=\"repo_actions', 'Data', 'a1d2cb4ed6ce.js\"></script', 'python', 'them,\",\"and', '1.433ZM6.762', '1.28-.82', 'Education', 'blob', '11.722l-3.773', 'introduction\",\"took', 'civility:\",\"\",\"“Pray', 'since\",\"he', 'unaffected\",\"cordiality', 'href=\"/features', 'amp;amp', 'what\",\"pain', 'to\",\"him', 'scopes=\"10', 'id=\"history', 'cloud.s3.amazonaws.com', 'app_ts', 'id=\"code', 'py', 'Jane', 'in\",\"Darcy', '9.5H2.5v4.75c0', 'able\",\"to', '1.75v9.5A1.75', '.734-.215L8', 'esm_Label_Label_js', 'vendors', 'anchoring_dist_scroll', '4.762a1.748', 'DS_Store\",\"path\":\"', 'h4', 'url', '1-.04', 'FormControl', 'menu-7e0ba082', 'class=\"Box', '5V1.5H1.75a.25.25', 'Solutions', '2.49V2.75a.25.25', 'width=\"12', '0v5h4.5a.25.25', 'href=\"/dustywhite7', '3.25a2.25', 'c66e45659e5f', 'of\",\"their', 'status&quot;,&quot;label&quot;:&quot;text', 'Copilot&quot;,&quot;label&quot;:&quot;ref_cta', '1.271-.438', 'Security', 'd=\"M11.013', 'n3', 'tip', 'Project&quot;,&quot;label&quot;:&quot;ref_cta', 'chestnuts\",\"which', 'd=\"M13.78', 'content=\"Pull', 'BtnGroup', '1.236-.081', 'Projects', 'viewBox=\"0', 'Eliza', 'Cancel', 'property=\"fb', 'calc(100vh', 'esm_Heading_Heading_js', '0-.88-.31', 'nav', 'prideAndPrejudiceChapters.txt\",\"renderImageOrRaw\":false,\"richText\":null,\"renderedFileInfo\":null,\"shortPath\":null,\"symbolsEnabled\":true,\"tabSize\":8,\"topBannersInfo\":{\"overridingGlobalFundingFile\":false,\"globalPreferredFundingPath\":null,\"showInvalidCitationWarning\":false,\"citationHelpUrl\":\"https://docs.github.com', 'class=\"flex-1', 'seriously.</p', 'Miss', 'mona', '1.682-.297', 'Annesley', 'K2HIVF635lypcsWPoD4kilo5', 'ui_packages-6fe316', 'd=\"M1', 'esm_Box_Box_js-8f8c5e2a2cbf.js\"></script', 'autocomplete=\"off', 'scopes.customScopesIdField', 'id=\"query', 'id=\"item-564f173b', '1c6.075', 'content=\"619ae0f835d6985692cd9141842d2f738c094893a952bbaa65568bc36d4f5ff4', '2.533-.529', 'Topics&quot;,&quot;label&quot;:&quot;ref_cta', '12.75a.75.75', 'CI', 'a745699a1cfa.js\"></script', 'character\",\"from', '1.75V3h2.25a.75.75', 'md-4', '0c.042-.331.063-.628.063-.894v-.02c-.001-.77-.169', 'continued:\",\"\",\"“I', 'name=\"authenticity_token', 'p-3', 'a118', 'whether\",\"_all', 'hidden=\"hidden', 'security&quot;,&quot;label&quot;:&quot;text', '1.02-.08', '\",\"\",\"Of', '1.727-.291l-.023.116v4.255c.419.323', '1.057.403', 'ml-1', 'flex-1', '6h.5a.75.75', 'p', 'Analysis', 'Webinars', '4.22a.75.75', 'h4\">Security</div', '0l6.082', 'sidenav', 'version=\"1.1', 'builder.sizer\"></div', 'more\",\"necessary', 'id=\"action', 'flex', '4h.55c-.192-.375-.3-.8-.3', 'v0LIx1cCjH7vmjA==', 'url=\"/users', 'content=\"600', 'content=\"dustywhite7', 'rounded-2', '1.248l1.055.703c.487.325.779.871.779', '12h-3.727c.099', '.138.112.25.25.25h2a.75.75', 'ui_packages_commit', '1-.064-.201c.103-.671.416', 'review</div', '1.638.54.922', 'Parsonage', 'b10d-8f6c79c828b9', 'node_modules_github_combobox', 'DevOps&quot;,&quot;label&quot;:&quot;ref_cta', 'theme=\"dark_tritanopia', 'label=\"Copy', '.138.112.25.25.25H4v-1.25a.75.75', 'view.959fb0b61e6a1de773e7.module.css', 'node_modules_primer_behaviors_dist_esm_dimensions_js', 'class=\"Counter\">0</span', 'click', 'partial.embeddedData\">{\"props\":{\"docsUrl\":\"https://docs.github.com', 'much\",\"pride', 'kind\",\"of', 'personage\",\"than', 'esm_AvatarStack_AvatarStack_js', 'Netherfield', 'node_modules_delegated', '.138.112.25.25.25h1a.75.75', 'to\",\"Wickham', 'class=\"d', 'When\",\"she', 'class=\"px-2', 'Teams;&quot', 'a4faf718c451', '16.992c-.861', 'dustywhite7', 'style=\"border', 'mr', 'hmac', 'bell', 'class=\"btn', 'a9123655fa03.js\"></script', '2.69.94', 'and\",\"as', 'content=\"@github', 'menu&quot;,&quot;repository_id&quot;:null,&quot;auth_type&quot;:&quot;SIGN_UP&quot;,&quot;originating_url&quot;:&quot;https://github.com', 'git', 'e8b7f38b-3d81', 'woody\",\"hills', 'Sign', 'value=\"+MoXg0B9VgG2ItkGTCGWEqYpqaPlLgvlwA35G3alogfcxp4UCxkz1gf91eXFT3FoW8v3WD', 'node_modules_scroll', 'AI', '15h-9a.75.75', 'changes\",\"editTooltip\":\"You', 'z-1', 'u/5835928?v=4\",\"public\":true,\"private\":false,\"isOrgOwned\":false},\"codeLineWrapEnabled\":false,\"symbolsExpanded\":false,\"treeExpanded\":true,\"refInfo\":{\"name\":\"master\",\"listCacheKey\":\"v0:1498482340.0\",\"canEdit\":false,\"refType\":\"branch\",\"currentOid\":\"48cacab1239d625e6cc5f48503ade5e8209baa3e\"},\"path\":\"AssignmentData', 'class=\"mr-3', 'app_assets_-e50ab6', '1.206-.134', 'links=\"repo_source', 'fzqOoiqXg==', 'node_modules_primer_react_lib', 'node_modules_github_catalyst_lib_index_js', 'Actions;&quot', 'Documentation;&quot', 'Enterprise;&quot', 'id=\"team', 'bottom-0', '18.25v-1.465a.75.75', 'height=\"20', 'id=\"bookmark', 'however\",\"temporary', 'heading\">For</span', \"class='sr\", '9h.5a.75.75', '0-.174.238V7c0', 'DevOps', 'review;&quot', 'Blog&quot;,&quot;label&quot;:&quot;ref_cta', 'role=\"button', 'analytics_hydro', 'd=\"M12', 'Pathways', '.21-.15.45-.55.38A7.995', '3.298C13.225', 'out)&quot;,&quot;action&quot;:&quot;click', 'Skills;&quot', 'quick\",\"step', 'h2', '1.578v.021c0', '1.75v8.5A1.75', 'nose\",\"wants', 'Issues', 'form_dist_index_js', 'node_modules_color', 'content=\"/:user_id/:repository', '3.396A.25.25', 'Enterprise', 'watch&quot;,&quot;repository_id&quot;:null,&quot;auth_type&quot;:&quot;LOG_IN&quot;,&quot;originating_url&quot;:&quot;https://github.com', 'value=\"repo_source', 'p-0', 'span></span><span', '/button', 'itemprop=\"name', '/><meta', 'esm_Button_IconButton_js', 'heightened\",\"into', 'content=\"Apib7', 'Blog', '\",\"\",\"Bingley', 'esm_Text_Text_js', 'esm_ConfirmationDialog_ConfirmationDialog_js-98120b3f8583.js\"></script', '4.75A.75.75', 'master', 'Pathways;&quot', 'style=\"font', 'id=\"tooltip', 'e4290af9', 'ardent\",\"love', \"only'>Footer</h2\", '6.374a.75.75', 'builder.clearButton', 'value=\"EnAzZFkithvGMSkYEb2TWXWoZLw7TSzzqhU4TGENnEuCk7YxBJOOMLgAxinFpnys886jKCJWYMiFxvqNdVi3eA==', 'reply,\",\"he', 'pathways/', 'button', 'Link\">Contact</a', 'element_dist_index_js-8a621df59e80.js\"></script', 'maxlength=\"50', 'their\",\"visit', 'Econ8320', 'importance\",\"could', 'd=\"M10.3', 'type=\"application', 'aria', 'label\"><div', '14Z\"></path', 'class=\"ActionListContent', '3.396a.25.25', 'four\",\"years', 'she\",\"saw', 'lg-5', 'Bennet', 'Pricing;&quot', 'GitHub,&nbsp;Inc', '1.086c0', 'core_register', 'Partners', 'src=\"/dustywhite7', 'attentions\",\"to', 'Teams', '1.61.55', '6.186l-.458.459c-.314.314-.641.616-.979.904v3.207c0', 'Label', '\",\"\",\"Elizabeth', 'charset=\"utf-8', 'dark_dimmed-8c42799cfb52.css', 'ListWrap', 'hovercard', '/dustywhite7', 'event=\"{&quot;category&quot;:&quot;Underline', '3.5a.25.25', 'd=\"M14.064', '2.83c-.193-.206-.637-.413', 'walked\",\"up', 'dom_dist_index_js-3b41341d50fe.js\"></script', 'p-2', 'Hunsford', '11.741v6.585c1.435.779', 'Product', 'knowing\",\"how', 'content</a', 'content=\"c1kuD', 'node_modules_smoothscroll', 'just\",\"arisen', 'Link\">Privacy</a', 'content=\"https://github.com', 'id=\"custom_scope_id', '1.088-.79l.72']\n",
            "Top 20 Adjectives: ['lang=\"en', 'light', 'dark', 'a11y', 'underlines=\"true', 'images.githubusercontent.com/', 'crossorigin=\"anonymous', 'media=\"all', 'rel=\"stylesheet', 'crossorigin=\"anonymous', 'media=\"all', 'rel=\"stylesheet', 'crossorigin=\"anonymous', 'media=\"all', 'rel=\"stylesheet', 'crossorigin=\"anonymous', 'media=\"all', 'rel=\"stylesheet', 'crossorigin=\"anonymous', 'media=\"all', 'rel=\"stylesheet', 'theme=\"light_colorblind', 'crossorigin=\"anonymous', 'media=\"all', 'rel=\"stylesheet', 'crossorigin=\"anonymous', 'media=\"all', 'rel=\"stylesheet', 'crossorigin=\"anonymous', 'media=\"all', 'rel=\"stylesheet', 'crossorigin=\"anonymous', 'media=\"all', 'rel=\"stylesheet', 'crossorigin=\"anonymous', 'media=\"all', 'rel=\"stylesheet', 'crossorigin=\"anonymous', 'media=\"all', 'rel=\"stylesheet', 'crossorigin=\"anonymous', 'media=\"all', 'rel=\"stylesheet', 'crossorigin=\"anonymous', 'media=\"all', 'rel=\"stylesheet', 'crossorigin=\"anonymous', 'media=\"all', 'rel=\"stylesheet', 'crossorigin=\"anonymous', 'media=\"all', 'rel=\"stylesheet', 'crossorigin=\"anonymous', 'crossorigin=\"anonymous', 'crossorigin=\"anonymous', 'crossorigin=\"anonymous', 'crossorigin=\"anonymous', 'crossorigin=\"anonymous', 'crossorigin=\"anonymous', 'crossorigin=\"anonymous', 'node_modules_github_relative', 'crossorigin=\"anonymous', 'nav_dist_index_js', 'node_modules_github_markdown', 'crossorigin=\"anonymous', 'node_modules_github_auto', 'complete', 'crossorigin=\"anonymous', 'crossorigin=\"anonymous', 'crossorigin=\"anonymous', 'element_dist_index_js', 'crossorigin=\"anonymous', 'node_modules_github_file', 'element_dist_index_js', 'crossorigin=\"anonymous', 'ui_packages_trusted', 'policies_policy_ts', 'crossorigin=\"anonymous', 'crossorigin=\"anonymous', 'crossorigin=\"anonymous', 'node_modules_github_hydro', 'crossorigin=\"anonymous', 'node_modules_github_mini', 'crossorigin=\"anonymous', 'node_modules_lit', 'html_lit', 'crossorigin=\"anonymous', 'crossorigin=\"anonymous', 'crossorigin=\"anonymous', 'crossorigin=\"anonymous', 'anchoring_esm_js', 'crossorigin=\"anonymous', 'crossorigin=\"anonymous', 'crossorigin=\"anonymous', 'crossorigin=\"anonymous', 'crossorigin=\"anonymous', 'app_assets_modules_github_updatable', 'crossorigin=\"anonymous', 'crossorigin=\"anonymous', 'app_assets_modules_github_sticky', 'crossorigin=\"anonymous', 'app_assets_modules_github_behaviors_ajax', 'crossorigin=\"anonymous', 'app_assets_modules_github_behaviors_commenting_edit_ts', 'crossorigin=\"anonymous', 'crossorigin=\"anonymous', 'crossorigin=\"anonymous', 'crossorigin=\"anonymous', 'crossorigin=\"anonymous', 'crossorigin=\"anonymous', 'crossorigin=\"anonymous', 'crossorigin=\"anonymous', 'crossorigin=\"anonymous', 'crossorigin=\"anonymous', 'crossorigin=\"anonymous', 'crossorigin=\"anonymous', 'crossorigin=\"anonymous', 'esm_text-7845da-4af5adcf486a.js\"></script', 'crossorigin=\"anonymous', 'crossorigin=\"anonymous', 'crossorigin=\"anonymous', 'crossorigin=\"anonymous', 'crossorigin=\"anonymous', 'crossorigin=\"anonymous', 'crossorigin=\"anonymous', 'crossorigin=\"anonymous', 'crossorigin=\"anonymous', 'node_modules_github_mini', 'crossorigin=\"anonymous', 'ui_packages_react', 'ui_packages_safe', 'storage_safe', 'storage_ts', 'crossorigin=\"anonymous', 'ui_packages_react', 'crossorigin=\"anonymous', 'crossorigin=\"anonymous', 'ui_packages_ref', 'crossorigin=\"anonymous', 'crossorigin=\"anonymous', 'canonical', 'object_ts', 'ui_packages_code', 'crossorigin=\"anonymous', 'app_assets_modules_github_blob', 'anchor_ts', 'sort_ts', 'crossorigin=\"anonymous', 'meta', 'name=\"route', 'meta', 'content=\"blob', 'meta', 'meta', 'meta', 'pjax', 'transient=\"true\"/><meta', 'name=\"html', 'safe', 'content=\"5cd6d7098d0adb764aa345ffc5cc5604c2caa48366a87240a902cd1f175ab4b0', 'pjax', 'transient=\"true\"/><meta', 'pjax', 'transient=\"true\"/><meta', 'meta', 'content=\"repository:95447250', 'meta', 'transient=\"true', 'meta', 'name=\"selected', 'meta', 'name=\"google', 'meta', 'name=\"google', 'meta', 'name=\"google', 'meta', 'name=\"google', 'meta', 'name=\"google', 'meta', 'meta', 'transient=\"true', 'meta', 'content=\"width', 'meta', 'rel=\"fluid', 'meta', 'meta', 'name=\"apple', 'meta', 'meta', 'meta', 'meta', 'pjax', 'content=\"08ac5a87909250c36739a4f07707a16586b0c4da1abb695db766ec82f4c37051', 'meta', 'pjax', 'content=\"f226bf37af9c33162063db3eb018fed7f088f86d0a20ca54c013fda96c7f2e05', 'meta', 'pjax', 'meta', 'pjax', 'js', 'meta', 'cache', 'preview', 'meta', 'cache', 'cache', 'meta', 'crossorigin=\"anonymous', 'media=\"all', 'rel=\"stylesheet', 'meta', 'meta', 'user_login', 'name=\"octolytics', 'dimension', 'repository_nwo', 'name=\"octolytics', 'dimension', 'content=\"true', 'name=\"octolytics', 'content=\"false', 'name=\"octolytics', 'meta', 'env', 'responsive', 'meta', 'content=\"https://api.github.com/_private', 'meta', 'content=\"https://api.github.com/_private', 'color=\"#000000', 'type=\"image', 'meta', 'meta', 'dark', 'rel=\"manifest', 'env', 'responsive', 'env', 'responsive', 'div', 'relative', 'js', 'py-4', 'bg', 'accent', 'js', 'pjax', 'full', 'pjax', 'bg', 'crossorigin=\"anonymous', 'crossorigin=\"anonymous', 'shortcuts', 'partial', 'partial', 'partial', 'crossorigin=\"anonymous', 'crossorigin=\"anonymous', 'class=\"header', 'old', 'js', 'light', 'light', 'light', 'dark', 'class=\"header', 'full', 'full', 'js', '-', 'flex', 'flex', 'flex', 'flex', 'responsive', 'full', 'div', 'flex', 'flex', 'flex', 'full', 'fg', 'flex', 'wordmark', 'height=\"32', 'hidden=\"true', 'flex', 'underline', 'click=\"{&quot;event_type&quot;:&quot;authentication.click&quot;,&quot;payload&quot;:{&quot;location_in_page&quot;:&quot;site', 'medium', 'fg', 'responsive', 'fit', 'lg', 'flex', 'flex', 'flex', 'class=\"header', 'flex', 'flex', 'flex', 'flex', 'flex', 'flex', 'lg', 'flex', 'relative', 'flex', 'flex', 'flex', 'lg', 'flex', 'flex', 'nowrap', 'flex', 'js', 'js', 'full', 'd', 'flex', 'flex', 'flex', 'js', 'hidden=\"true', 'dropdown', 'dropdown', 'relative', 'absolute', 'left-0', 'lg', 'flex', 'dropdown', 'wide', 'class=\"list', 'dropdown', 'lh', 'underline', 'relative', 'secondary', '-', 'flex', 'flex', 'dropdown', 'hidden=\"true', 'fg', 'subtle', 'dropdown', 'lh', 'underline', 'relative', 'secondary', '-', 'flex', 'flex', 'dropdown', 'hidden=\"true', 'fg', 'subtle', 'dropdown', 'lh', 'underline', 'relative', 'secondary', '-', 'flex', 'flex', 'dropdown', 'hidden=\"true', 'fg', 'subtle', 'dropdown', 'lh', 'underline', 'relative', 'secondary', '-', 'flex', 'flex', 'dropdown', 'hidden=\"true', 'fg', 'subtle', 'dropdown', 'lh', 'underline', 'relative', 'secondary', '-', 'flex', 'flex', 'dropdown', 'hidden=\"true', 'fg', 'subtle', 'better', 'dropdown', 'lh', 'underline', 'relative', 'secondary', '-', 'flex', 'flex', 'dropdown', 'hidden=\"true', 'fg', 'subtle', 'dropdown', 'lh', 'underline', 'relative', 'secondary', '-', 'flex', 'flex', 'dropdown', 'hidden=\"true', 'fg', 'subtle', 'dropdown', 'lh', 'underline', 'relative', 'secondary', '-', 'flex', 'flex', 'dropdown', 'hidden=\"true', 'fg', 'subtle', 'id=\"product', 'class=\"list', 'dropdown', 'lh', 'underline', 'relative', 'secondary', 'dropdown', 'dropdown', 'lh', 'underline', 'relative', 'secondary', 'dropdown', 'hidden=\"true', 'external', 'external', 'fg', 'subtle', 'dropdown', 'lh', 'underline', 'relative', 'secondary', 'dropdown', 'hidden=\"true', 'external', 'external', 'fg', 'subtle', 'dropdown', 'lh', 'underline', 'relative', 'secondary', 'dropdown', 'hidden=\"true', 'external', 'external', 'fg', 'subtle', 'relative', 'flex', 'flex', 'flex', 'lg', 'flex', 'flex', 'nowrap', 'flex', 'js', 'js', 'full', 'd', 'flex', 'flex', 'flex', 'js', 'hidden=\"true', 'dropdown', 'dropdown', 'relative', 'absolute', 'left-0', 'n3', 'class=\"list', 'dropdown', 'lh', 'underline', 'relative', 'secondary', 'dropdown', 'dropdown', 'lh', 'underline', 'relative', 'secondary', 'dropdown', 'dropdown', 'lh', 'underline', 'relative', 'secondary', 'dropdown', 'dropdown', 'lh', 'underline', 'relative', 'secondary', 'dropdown', 'hidden=\"true', 'external', 'external', 'fg', 'subtle', 'class=\"list', 'dropdown', 'lh', 'underline', 'relative', 'secondary', 'dropdown', 'dropdown', 'lh', 'underline', 'relative', 'secondary', 'dropdown', 'dropdown', 'lh', 'underline', 'relative', 'secondary', 'dropdown', 'hidden=\"true', 'external', 'external', 'fg', 'subtle', 'class=\"list', 'dropdown', 'lh', 'underline', 'relative', 'secondary', 'dropdown', 'hidden=\"true', 'external', 'external', 'fg', 'subtle', 'dropdown', 'lh', 'underline', 'relative', 'secondary', 'dropdown', 'white', 'hidden=\"true', 'external', 'external', 'fg', 'subtle', 'dropdown', 'lh', 'underline', 'relative', 'secondary', 'dropdown', 'dropdown', 'lh', 'underline', 'relative', 'secondary', 'dropdown', 'hidden=\"true', 'external', 'external', 'fg', 'subtle', 'relative', 'flex', 'flex', 'flex', 'lg', 'flex', 'flex', 'nowrap', 'flex', 'js', 'js', 'full', 'd', 'flex', 'flex', 'flex', 'js', 'hidden=\"true', 'dropdown', 'dropdown', 'relative', 'absolute', 'left-0', 'n3', 'class=\"list', 'dropdown', 'lh', 'underline', 'relative', 'secondary', '-', 'flex', 'flex', 'dropdown', 'open', 'open', 'class=\"list', 'dropdown', 'lh', 'underline', 'relative', 'secondary', '-', 'flex', 'flex', 'dropdown', 'open', 'id=\"open', 'class=\"list', 'labelledby=\"open', 'dropdown', 'lh', 'underline', 'relative', 'secondary', 'dropdown', 'open', 'dropdown', 'lh', 'underline', 'relative', 'secondary', 'dropdown', 'open', 'dropdown', 'lh', 'underline', 'relative', 'secondary', 'dropdown', 'open', 'relative', 'flex', 'flex', 'flex', 'lg', 'flex', 'flex', 'nowrap', 'flex', 'js', 'js', 'top', 'flex', 'flex', 'delete', 'csrf=\"cba0ho4aangowntj_xy9t9nqxgly8obibc9xxth3wb3gd7vayiyqn5', 'nxu_rfuhpfwgokvbdlk3oqguvdthr2a', 'initial', 'current', 'current', 'current', 'd', '-', 'flex', 'flex', 'flex', 'class=\"header', '-', 'flex', 'flex', 'flex', 'no', 'full', 'autocapitalize=\"off', 'div', 'muted', 'hidden=\"true', 'flex', 'hidden=\"true', 'name=\"type', 'modal', 'modal', 'width', 'large', 'class=\"sr', 'div', 'full', 'large', 'fg', '-', 'flex', 'flex', 'charset=\"utf-8', 'for=\"query', 'fit', 'leadingvisual', 'hidden=\"true', 'leadingvisual', 'div', 'hidden=\"true', 'styledinputcontent', 'builder.styledinputcontent', 'hidden=\"true', 'name=\"query', 'builder#inputchange', 'id=\"query', 'clear', 'clear', 'variant=\"small', 'hidden=\"hidden', 'icononly', 'invisible', '-', 'flex', 'flex', 'muted', 'hidden=\"true', 'visual', 'hidden=\"true', 'id=\"code', 'hidden=\"true', 'id=\"file', 'hidden=\"true', 'hidden=\"true', 'id=\"repo', 'hidden=\"true', '2.5a2.5', 'hidden=\"true', 'id=\"plus', 'hidden=\"true', 'hidden=\"true', 'hidden=\"true', 'hidden=\"true', 'hidden=\"true', 'hidden=\"true', '4.81l-6.286', 'hidden=\"true', 'id=\"workflow', 'hidden=\"true', 'hidden=\"true', 'id=\"code', 'hidden=\"true', 'hidden=\"true', 'id=\"comment', 'hidden=\"true', 'id=\"comment', 'hidden=\"true', 'hidden=\"true', 'hidden=\"true', 'hidden=\"true', 'hidden=\"true', 'hidden=\"true', 'hidden=\"true', '1.215.245-.296.551-.705.857', 'hidden=\"true', 'id=\"device', 'mobile', 'hidden=\"true', 'hidden=\"true', 'hidden=\"true', 'hidden=\"true', 'hidden=\"true', 'id=\"code', 'square', 'hidden=\"true', 'hidden=\"true', 'relative', 'false', 'hidden=\"hidden', 'visual', 'hidden=\"true', 'div', 'atomic=\"true', 'div', 'flex', 'flex', 'muted', 'small', 'bg', 'prompt', 'accent', 'normal', 'ml-2', 'div', 'flex', 'class=\"dark', '-', 'backdrop', 'labelledby=\"feedback', 'div', 'div', 'div', 'close', 'class=\"close', 'hidden=\"true', 'scrollable', 'by=\"feedback', 'id=\"code', 'charset=\"utf-8', 'csrf=\"true', 'full', 'style=\"height', 'close', 'form=\"code', 'type=\"submit', 'class=\"btn', 'primary', 'target=\"custom', 'id=\"custom', 'describedby=\"custom', 'div', 'div', 'id=\"custom', 'scopes', 'id=\"custom', 'quickly</h2', 'div', 'close', 'id=\"custom', 'class=\"close', 'hidden=\"true', 'scrollable', 'target=\"custom', 'class=\"create', 'id=\"custom', 'charset=\"utf-8', 'csrf=\"true', 'target=\"custom', 'scopes.customscopesnamefield', 'csrf=\"true', 'name=\"custom_scope_query', 'id=\"custom_scope_query', 'small', 'muted', 'available', 'alignend', 'form=\"custom', 'type=\"submit', 'class=\"btn', 'primary', 'input><input', 'csrf=\"true', 'relative', 'flex', 'click=\"{&quot;event_type&quot;:&quot;authentication.click&quot;,&quot;payload&quot;:{&quot;location_in_page&quot;:&quot;site', 'header+logged+out&amp;ref_page=%2f%3cuser', 'flex', 'underline', 'click=\"{&quot;event_type&quot;:&quot;authentication.click&quot;,&quot;payload&quot;:{&quot;location_in_page&quot;:&quot;site', 'div', 'hidden=\"hidden', 'stale', 'stale', 'full', 'hidden=\"true', 'stale', 'stale', 'stale', 'f87514163e0f', 'icononly', 'invisible', 'close', 'js', 'hidden=\"true', 'visual', 'for=\"icon', 'f87514163e0f', 'popover=\"manual', 'class=\"sr', 'div', 'id=\"start', 'full', 'close', 'js', 'close', 'hidden=\"true', 'atomic=\"true', 'role=\"alert', 'fragment', 'include', 'fragment', 'shelf\"></include', 'main', 'main', 'div', 'id=\"repository', 'class=\"pt-3', 'full', 'style=\"background', 'div', 'flex', 'flex', 'flex', 'width-0', 'fit', '-', 'flex', 'flex', 'flex', 'wb', 'f3', 'normal', 'hidden=\"true', 'muted', '2.5a2.5', 'flex', 'fn', 'type=\"user', 'flex', 'strong', 'flex', 'secondary', 'v', 'align', 'div', 'id=\"repository', 'flex', 'rel=\"nofollow', 'hidden=\"true', 'rel=\"nofollow', 'hidden=\"true', 'forked', 'id=\"repo', 'pjax', 'replace=\"true', 'flex', 'rel=\"nofollow', 'hidden=\"true', 'v', 'align', 'id=\"repo', 'social', 'hidden=\"true', 'id=\"responsive', 'meta', 'pjax', 'js', 'responsive', 'class=\"underlinenav', 'flex', 'js', 'responsive', 'js', 'hidden=\"true', 'available', 'flex', 'js', 'responsive', 'js', 'hidden=\"true', 'hidden=\"hidden', 'flex', 'id=\"pull', 'js', 'responsive', 'js', 'hidden=\"true', 'hidden=\"hidden', 'flex', 'js', 'responsive', 'js', 'hidden=\"true', 'available', 'flex', 'id=\"projects', 'item=\"i4projects', 'js', 'responsive', 'js', 'hidden=\"true', 'id=\"projects', 'hidden=\"hidden', 'flex', 'js', 'responsive', 'js', 'hidden=\"true', 'overall', 'count', 'accept=\"text', 'fragment', 'flex', 'pulse', 'js', 'responsive', 'js', 'hidden=\"true', 'available', 'div', 'js', 'responsive', 'absolute', 'select', 'direction=\"vertical', 'haspopup=\"true', 'icononly', 'secondary', 'medium', 'hidden=\"true', 'kebab', 'horizontal', 'visual', 'popover=\"manual', 'class=\"sr', 'absolute\">additional', 'side=\"outside', 'offset=\"normal', 'popover=\"auto', 'div', 'actionlistwrap', 'role=\"none', 'class=\"actionlistitem', 'visual', 'actionlistitem', 'visual', 'hidden=\"true', 'class=\"actionlistitem', 'role=\"none', 'class=\"actionlistitem', 'visual', 'actionlistitem', 'visual', 'hidden=\"true', 'class=\"actionlistitem', 'role=\"none', 'tabindex=\"-1', 'id=\"item-847fab06', 'class=\"actionlistitem', 'visual', 'actionlistitem', 'visual', 'hidden=\"true', 'class=\"actionlistitem', 'role=\"none', 'class=\"actionlistitem', 'visual', 'actionlistitem', 'visual', 'hidden=\"true', 'class=\"actionlistitem', 'item=\"i4projects', 'role=\"none', 'id=\"item-4b008626', 'class=\"actionlistitem', 'visual', 'actionlistitem', 'visual', 'hidden=\"true', 'class=\"actionlistitem', 'role=\"none', 'class=\"actionlistitem', 'visual', 'actionlistitem', 'visual', 'hidden=\"true', 'class=\"actionlistitem', 'role=\"none', 'class=\"actionlistitem', 'visual', 'actionlistitem', 'visual', 'hidden=\"true', 'class=\"actionlistitem', 'id=\"repo', 'div', 'id=\"repo', 'initial', 'very', 'false', 'very', 'new', 'inn\",\"to', 'same', 'in\",\"a', 'small', 'new', 'other', 'such', 'such', 'own', 'other', 'more', 'anxious', 'fearful', 'such', 'worse', 'formidable', 'least', 'embarrassed', 'few', 'shy', 'difficult', 'from\",\"her', 'tall', 'larger', 'more', 'graceful', 'handsome', 'good', 'gentle', 'such', 'different', 'friendly', 'general', 'same', 'interesting', 'whole', 'lively', 'earnest', 'full', 'least', 'much', 'own', 'agreeable', 'latter', 'sure', 'ready', 'eager', 'pleased', 'in\",\"a', 'less', 'imaginary', 'particular', 'satisfied', 'little', 'anxious', 'real', 'long', 'pleased', 'exact', 'unattended', 'much', 'least', 'good', 'few', 'civil', 'last\",\"lively', 'great', 'visible', 'dear', 'dignified', 'desirous', 'free', 'half', 'little', 'obeyed', 'desirous', 'momentary', 'fond', 'perfect', 'next', 'great', 'elizabeth\",\"again', 'great', 'many', 'pleased', 'capable', 'last', 'half', 'eager', 'alone', 'fearful', 'their\",\"favourable', 'evident', 'of;\",\"it', 'evident', 'to\",\"interest', 'untouched', 'own', 'other', 'old', 'own', 'small', 'liberal', 'good', 'poor', 'much', 'many', 'more', 'last', 'awake', 'whole', 'ashamed', 'his\",\"valuable', 'repugnant', 'friendlier', 'in\",\"his', 'amiable', 'enough', 'unjust', 'greatest', 'accidental', 'indelicate', 'good', 'exciting', 'such', 'grateful', 'real', 'striking', 'pleased', 'little', 'positive', 'had\",\"originated', 'unwelcome', 'curious', 'how\",\"much', 'saloon,\",\"whose', 'northern', 'delightful', 'refreshing', 'high', 'beautiful', 'intermediate', 'civil', 'proud', 'awkward', 'such', 'few', 'agreeable', 'occasional', 'least', 'latter', 'sorry', 'own', 'other', 'more', 'next', 'cold', 'the\",\"finest', 'significant', 'the\",\"beautiful', 'fair', 'easy', 'unembarrassed', 'whole', 'desperate', 'more', 'anxious', 'much', 'possible', 'great', 'uppermost', 'the\",\"various', 'ill', 'natured', 'involuntary', 'unable', 'beloved', 'partial', 'possible', 'anxious', 'own', 'probable', 'lively', 'enough', 'very', 'more', 'enough', 'such', 'lovely', 'amiable', 'saloon', 'ill', 'brown', 'agreeing\",\"that', 'little', 'other', 'miraculous', 'own', 'thin', 'handsome', 'are\",\"tolerable', 'common', 'fine', 'sharp', 'shrewish', 'intolerable', 'best', 'angry', 'last', 'silent', 'amazed', 'reputed', 'at\",\"one', 'many', 'handsomest', 'interested', 'gratified', 'dismiss', 'dismiss', 'raw', 'muted', 'responsive', 'div', 'flex', 'flex', 'flex', 'flex', 'reverse', 'flex', 'flex', 'flex', 'div', 'flex', 'flex', 'flex', 'hidden=\"true', 'class=\"sr', 'class=\"list', 'd', '-', 'flex', 'flex', 'flex', 'labelledby=\"sr', 'secondary', 'secondary', 'secondary', 'secondary', 'href=\"https://docs.github.com/', 'secondary', 'secondary', 'secondary', 'bg', 'transparent', 'secondary', 'bg', 'transparent', 'personal', 'id=\"ghcc', 'initial', 'div', 'id=\"ajax', 'class=\"ajax', 'hidden=\"true', 'close', 'js', 'ajax', 'hidden=\"true', 'id=\"site', 'dark', 'lh', 'fg', 'open', 'dialog\"></summary', '-', 'flex', 'flex', 'fast', 'modal', 'absolute', 'top-0', 'close', 'hidden=\"true', 'div', 'js', 'absolute', 'div', 'class=\"popover', 'large', 'large', 'style=\"width:360px', 'div', 'class=\"zeroclipboard', 'absolute', 'hidden=\"true', '1.75v7.5a1.75', 'hidden=\"true', 'js', 'unpositioned', 'invisible', 'js', '-', 'flex', 'flex', 'flex', 'hidden=\"true', '1.75v7.5a1.75', 'hidden=\"true', 'js', 'global', 'class=\"sr', 'atomic=\"true', 'global', 'assertive', 'class=\"sr', 'live=\"assertive']\n"
          ]
        }
      ]
    }
  ],
  "metadata": {
    "celltoolbar": "Create Assignment",
    "colab": {
      "provenance": []
    },
    "kernelspec": {
      "display_name": "Python 3 (ipykernel)",
      "language": "python",
      "name": "python3"
    },
    "language_info": {
      "codemirror_mode": {
        "name": "ipython",
        "version": 3
      },
      "file_extension": ".py",
      "mimetype": "text/x-python",
      "name": "python",
      "nbconvert_exporter": "python",
      "pygments_lexer": "ipython3",
      "version": "3.9.13"
    }
  },
  "nbformat": 4,
  "nbformat_minor": 0
}
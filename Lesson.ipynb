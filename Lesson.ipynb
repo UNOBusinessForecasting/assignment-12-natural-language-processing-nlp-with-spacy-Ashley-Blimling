{
  "cells": [
    {
      "cell_type": "markdown",
      "metadata": {
        "id": "PEGn6pPG4KsZ"
      },
      "source": [
        "# Natural Language Processing\n",
        "\n",
        "\n",
        "## Defining Natural Language Processing\n",
        "\n",
        "As we continue further into our content this semester, you have probably noticed that each tool takes us to a new level of being able to conduct analysis with less code. As we progress, we move toward what are called \"higher level\" programming tools. Python itself is a high-level programming language, meaning that it is written in a way that is easier for humans to read than computers, with lots of translation happening behind the scenes.\n",
        "\n",
        "Tools like `pandas` remove a lot of the manual work from data processing. `numpy` and `scipy` handle much of the mathematical and statistical work that we want to do with our data. Natural Language Processing (NLP) is a tool similar to regex, but allowing us to take our text analytics to entirely new levels.\n",
        "\n",
        "Where regex allows us to look for text-based patterns in our words or string content, we want to go further. We want to look for **meaning**-based content. How do I find content that reflects anger? What words are most common in those contexts? What about when the content reflects joy? Sadness? Regex is not enough in these cases, and so we build to an even more powerful tool.\n",
        "\n",
        "NLP is a broad set of tools designed in order to enable users to work with text in ways that a human might work with text. When we work with text, we look for structures like sentences, and within those sentences we look for nouns to tell us who or what is the focus of the content. We look for verbs to understand what is happening. Adjectives and other descriptors help us to better understand the nuances of context. NLP models are trained to recognize these elements in text, and to be able to leverage that content to break text down and provide human users valuable information at a larger scale than would be possible if the document were simply read (slowly) by a human.\n",
        "\n",
        "| Regex | NLP |\n",
        "| --- | --- |\n",
        "| Create patterns to match in text | Identify the structure of text and use that to refine information|\n",
        "| Used to verify or find data | Used to analyze data |\n",
        "| Applies user-defined rules | Relies heavily on ML-based (or other) models |\n",
        "\n",
        "\n",
        "## What NLP can do\n",
        "\n",
        "So what can NLP do for us?\n",
        "\n",
        "### Identify parts of speech\n",
        "\n",
        "When we pass a document (really a string, but typically we provide a fairly large string to an NLP algorithm) to an NLP model, it is able to identify parts of speech (nouns, verbs, etc.). This enables us to quickly break down our text to find various kinds of keywords, and is the first step in many more complex pipelines.\n",
        "\n",
        "### Iterate over sentences\n",
        "\n",
        "NLP can identify sentences within a document. This makes for a powerful iterative tool, as we will be able to define a processing pipeline for each sentence, and then apply that pipeline to as many sentences as exist within our document, without having to write complex code to try and recognize where each sentence starts and ends (this is MUCH harder than it sounds).\n",
        "\n",
        "### Find words used to describe various nouns (or anything else!)\n",
        "\n",
        "Beyond simply identifying parts of speech, NLP models can be used to build a structural dependency tree of each sentence. This structure allows us to associate adjectives with their respective nouns, or adverbs to the verb that they modify. We can explore how various entities are described in our document based on word associations. We can even visualize the structure of the sentence using simple mapping functions.\n",
        "\n",
        "### Filter text for analysis\n",
        "\n",
        "We can use NLP to filter our text. We can look for sentences about a specific entity, or explore other ways of filtering our text in order to create a better understanding of overall patterns in the document.\n",
        "\n",
        "### Conduct sentiment analysis\n",
        "\n",
        "One of the most powerful capabilities resulting from NLP models is the ability to analyze sentiment within the text. Words have the ability to convey literal meanings, as well as the more subtle capacity to convey emotion. By looking for word combinations in our text, NLP models can provide sentiment measurements at the word, sentence, or document level. This provides the ability to sort through texts for specific sentiments to learn about the way in which emotion affects the outcomes we are examining in text. One example might be looking through descriptions for negative emotions, and being able to respond to unhappy customers by flagging negative descriptions.\n",
        "\n",
        "\n",
        "## Implementing NLP models\n",
        "\n",
        "To get started with NLP models, we need to install the right libraries (and a corpus!). The library that we will use is `spacy`, although there are multiple other options available to us. One other common NLP library is `nltk`, the Natural Language Toolkit (NLTK). In my experience NLTK is more commonly employed when someone wants to create their own model from scratch, rather than implement pre-built and optimized NLP models.\n",
        "\n",
        "In addition to a library to conduct NLP, we also rely on a **corpus**. A corpus is essentially a model of a specific language that is built to enable the actual analysis. `spacy` as a library is a general structure that can be implemented on ANY language. The corpus allows us to select a specific language, and a model of that language built on a specific set of information.\n",
        "\n",
        "When we install `spacy`, we will also download the `en_core_web_sm` corpus. This corpus is a small-sized model of the english language, and was trained on web-based data. That means that it will perform best on data drawn from websites, and is not as strong a model for other contexts (like analyzing Pride and Prejudice). That doesn't mean that we can't use in other contexts, but it does suggest that results will not be as refined or accurate."
      ]
    },
    {
      "cell_type": "markdown",
      "metadata": {
        "id": "fKvtV1eg4Ksi"
      },
      "source": [
        "We need to get ourselves some text to analyze before we jump into the NLP world. In true form, here is another favorite old book. We will take a look at the first three chapters of Jane Eyre from [Project Gutenberg](https://www.gutenberg.org/browse/scores/top)."
      ]
    },
    {
      "cell_type": "code",
      "execution_count": null,
      "metadata": {
        "id": "NBaxeQ334Ksj"
      },
      "outputs": [],
      "source": [
        "import requests\n",
        "\n",
        "jane = requests.get(\n",
        "\"https://github.com/dustywhite7/Econ8320/raw/master/AssignmentData/janeEyreCh1to3.txt\"\n",
        ").text"
      ]
    },
    {
      "cell_type": "markdown",
      "metadata": {
        "id": "ijgBdYHz4Ksl"
      },
      "source": [
        "You can take a look at the text to get an idea of what we will be working with. Once you're ready, we will go ahead and import the `spacy` library. The very first thing we do once we import `spacy` is to load the coprus, so that we are able to use its language models to parse our document. Let's run the code, and then discuss what is happening."
      ]
    },
    {
      "cell_type": "code",
      "execution_count": null,
      "metadata": {
        "id": "gUU44YDi4Ksl"
      },
      "outputs": [],
      "source": [
        "import spacy\n",
        "\n",
        "nlp = spacy.load(\"en_core_web_sm\")\n",
        "doc = nlp(jane)"
      ]
    },
    {
      "cell_type": "markdown",
      "metadata": {
        "id": "MV-d46kY4Ksm"
      },
      "source": [
        "### The structure of a parsed document\n",
        "\n",
        "When we create an `nlp` object based on our corpus, we are creating our pipeline for working with text. Our corpus contains all of the information necessary to prepare our data for analysis. When we create our `doc` object, we are passing our document through the processing pipeline. Our new parsed document (`doc` in this case), has some important **attributes**:\n",
        "\n",
        "- `sents` - a generator function to iterate over each sentence in the document\n",
        "- `token` - each individual element of the document\n",
        "    - Elements exist at the word/punctuation level\n",
        "\n",
        "After being processed, our document has been broken down into tokens, and then (to some extent) reconstructed into sentences. Additionally, each token is mapped out in relation to the other tokens within a sentence, and is described using various attributes to inform how that token relates to the text around it."
      ]
    },
    {
      "cell_type": "code",
      "execution_count": null,
      "metadata": {
        "id": "ypNf0pCu4Ksm"
      },
      "outputs": [],
      "source": [
        "test = [i.text.replace('\\n', ' ') for i in doc.sents][:10]\n",
        "# print first 10 sentences, replacing newlines with spaces\n",
        "\n",
        "test\n"
      ]
    },
    {
      "cell_type": "markdown",
      "metadata": {
        "id": "rloMD_aD4Ksn"
      },
      "source": [
        "### Understanding tokens\n",
        "\n",
        "Recall that each word is represented as a token in the processed document. These tokens are immensely powerful. They are the word, but also more than that. Words in the English language are often modified based on context. Verbs are conjugated, nouns may be plural, among many possibilities. Each word is **tokenized** through our corpus in order to identify the underlying word.\n",
        "\n",
        "This is important, because we might want to look for each instance of a single word in our corpus. Let's say that we want to find every instance of \"eat\". If we look for \"eat\", we want to make sure that \"eats\" and \"ate\", as well as \"eating\" and other forms are all considered. This is where tokenization becomes critical. Each token contains the text value from the original document, but also the **lemmatized** word. The lemma is the base form of the word, allowing us to search for lemmas rather than the text word. This streamlines our ability to analyze text by focusing on lemmas rather than unprocessed text.\n",
        "\n",
        "Other valuable attributes are also associated with our tokens:\n",
        "- `lemma_` - the \"root word\" from which a token/word is derived\n",
        "- `pos_` - the part of speech of a token/word\n",
        "- `dep_` - the relationship of dependent tokens to the parent token (adjectives to nouns, etc.)\n",
        "- `like_email`/`like_num`/`like_url` - check if a token is like an email, number, or url (unlikely in Jane Eyre)\n",
        "\n",
        "Let's look at the first 100 non-space, non-punctuation lemmas in Jane Eyre:"
      ]
    },
    {
      "cell_type": "code",
      "execution_count": null,
      "metadata": {
        "id": "tUpFyBRV4Kso"
      },
      "outputs": [],
      "source": [
        "lemmas100 = [(i.lemma_, i.text) for i in doc if (not i.is_punct) and (not i.is_space)][:100]\n",
        "\n",
        "print(lemmas100) # The lemma comes first, followed by the actual word in the text."
      ]
    },
    {
      "cell_type": "markdown",
      "metadata": {
        "id": "fIjD0oHc4Kso"
      },
      "source": [
        "We can also filter words by part of speech using the `pos_` attribute of our tokens. Let's look for the first 100 nouns in the text."
      ]
    },
    {
      "cell_type": "code",
      "execution_count": null,
      "metadata": {
        "id": "ySIhS9K-4Ksp"
      },
      "outputs": [],
      "source": [
        "nouns = [i.text for i in doc if i.pos_=='NOUN'][:100]\n",
        "\n",
        "print(nouns) # The lemma comes first, followed by the actual word in the text."
      ]
    },
    {
      "cell_type": "markdown",
      "metadata": {
        "id": "fzWvOdWf4Ksp"
      },
      "source": [
        "Pretty cool! If you look through that list, you'll see that there are a lot of different kinds of nouns. Two that stood out to me are \"drawing\" and \"room\"... oh wait... that's ONE NOUN that is two words! And leads us right into **noun chunks**. ;)\n",
        "\n",
        "Sometimes, you want to be able to see a \"complete\" noun, and noun chunks are the tool to use!"
      ]
    },
    {
      "cell_type": "code",
      "execution_count": null,
      "metadata": {
        "id": "2mFOjvRZ4Ksp"
      },
      "outputs": [],
      "source": [
        "nouns = [i.text.replace('\\n', ' ') for i in doc.noun_chunks][:100] # getting rid of new lines in our noun chunks\n",
        "\n",
        "print(nouns)"
      ]
    },
    {
      "cell_type": "markdown",
      "metadata": {
        "id": "X22I8C974Ksq"
      },
      "source": [
        "That's better. Noun chunks include all of the modifiers for a given noun, and make it easier to build a more complete understanding of the references being made. Why do we care? Because \"the red moreen curtain\" is the object, and we want to be sure to understand the implication of the full object, rather than only the word within the noun chunk that is actually a noun.\n",
        "\n",
        "If we want to understand more about the nature of the relationships between words within a sentence, we can plot a dependency tree.\n",
        "\n",
        "**NOTE: When you run the following code, be sure to click the STOP button when you're done, or no other code will run! The renderer for the dependency tree will keep running until you terminate it!**"
      ]
    },
    {
      "cell_type": "code",
      "execution_count": null,
      "metadata": {
        "id": "9FmjHQC24Ksq"
      },
      "outputs": [],
      "source": [
        "from spacy import displacy\n",
        "\n",
        "sent = [i for i in doc.sents][100]\n",
        "displacy.serve(sent, style=\"dep\")"
      ]
    },
    {
      "cell_type": "markdown",
      "metadata": {
        "id": "TnGJJYJx4Ksq"
      },
      "source": [
        "Using this mapping, we can see each of the clauses of the sentence, and how words within the sentence relate to one another. The mapping can help us to understand whether or not we have correctly identified parts of speech that are associated with the topics we are trying to uncover in our code.\n",
        "\n",
        "\n",
        "## Sentiment Analysis\n",
        "\n",
        "My personal favorite part of NLP, sentiment analysis is a very powerful instrument for understanding text and creating actionable items. Many firms use sentiment analysis in combination with their social media accounts to measure engagement and understand how successful marketing campaigns or other interactions are with target audiences.\n",
        "\n",
        "In order to conduct sentiment analysis using spacy, we are going to use a library called `spacytextblob`. This library includes supplemental material that expands the english corpus' ability to process our data. When utilized, `spacytextblob` is going to add sentiment analysis models to the general pipeline created through `spacy`.\n",
        "\n",
        "We can incorporate the `SpacyTextBlob` process into our pipeline like this:"
      ]
    },
    {
      "cell_type": "code",
      "execution_count": null,
      "metadata": {
        "id": "8wXTIrx44Ksr"
      },
      "outputs": [],
      "source": [
        "import spacy\n",
        "from spacytextblob.spacytextblob import SpacyTextBlob\n",
        "import requests\n",
        "\n",
        "jane = requests.get(\n",
        "\"https://github.com/dustywhite7/Econ8320/raw/master/AssignmentData/janeEyreCh1to3.txt\"\n",
        ").text\n",
        "\n",
        "nlp = spacy.load('en_core_web_sm')\n",
        "nlp.add_pipe('spacytextblob')\n",
        "\n",
        "blob = nlp(jane)\n",
        "\n",
        "sents = [i for i in blob.sents]\n",
        "\n",
        "for sentence in sents[:10]:\n",
        "    print(\"Polarity: {0:3.2f}, Subjectivity: {1:3.2f}\".format(sentence._.polarity, sentence._.subjectivity))"
      ]
    },
    {
      "cell_type": "markdown",
      "metadata": {
        "id": "foYZEZRR4Ksr"
      },
      "source": [
        "We can add code to our processing pipeline using the `nlp.add_pipe()` method on our `nlp` object. In this case, we are adding the sentiment analysis information created through `SpacyTextBlob`, but this can be literally anything. We can create any kind of function that we want to implement on our code, and can add that functionality to our pipeline in the same way. More examples are available in the `spacy` [documentation](https://spacy.io/usage/processing-pipelines#pipelines).\n",
        "\n",
        "If you want to get more in-depth with NLP, I highly recommend that you explore the course material available through `spacy`'s own NLP curriculum (freely available!): https://course.spacy.io/en/"
      ]
    },
    {
      "cell_type": "markdown",
      "metadata": {
        "id": "GZ1qQ_8G4Ksr"
      },
      "source": [
        "## Solve it!\n",
        "\n",
        "In this project, you will use the text from chapters 44 and 45 of *Pride and Prejudice*. Please find the following information:\n",
        "\n",
        "- The number of sentences (store as `int` in a variable named `sentences`)\n",
        "- A list of all proper nouns used across the two chapters (stored as strings in the `names` variable)\n",
        "- A DataFrame containing a count of the top 20 adjectives used in the text (stored in the `adjectives` variable)\n",
        "    - Be sure to make all words lower case ONLY!\n",
        "- A bar chart of the top 20 adjectives used in the text stored in a variable called `fig`\n",
        "\n",
        "\n",
        "Place all of your code in the cell below, labeled `#si-exercise`."
      ]
    },
    {
      "cell_type": "code",
      "execution_count": 64,
      "metadata": {
        "colab": {
          "base_uri": "https://localhost:8080/"
        },
        "id": "fzNnHSwT4Ksr",
        "outputId": "68ca01f2-491e-4bb1-9715-ebf84ab65fc7"
      },
      "outputs": [
        {
          "output_type": "stream",
          "name": "stdout",
          "text": [
            "913\n"
          ]
        }
      ],
      "source": [
        "#si-exercise\n",
        "from spacytextblob.spacytextblob import SpacyTextBlob\n",
        "import plotly.express as px\n",
        "import pandas as pd\n",
        "import requests\n",
        "import spacy\n",
        "\n",
        "PaP = requests.get(\"https://github.com/dustywhite7/Econ8320/blob/master/AssignmentData/prideAndPrejudiceChapters.txt\").text\n",
        "nlp = spacy.load(\"en_core_web_sm\")\n",
        "doc = nlp(PaP)\n",
        "\n",
        "def sentences(text):\n",
        "  int = len(list(doc.sents))\n",
        "  print(int)\n",
        "\n",
        "sentences(\"doc\")\n",
        "\n",
        "def names(text):\n",
        "  PROPN = [i.text for i in doc if (not i.is_space) & (not i.is_punct) & (i.pos_==\"PROPN\")]\n",
        "  PROPNList = pd.Series(PROPN)\n",
        "  print(list(PROPNList))"
      ]
    },
    {
      "cell_type": "code",
      "source": [
        "def names(text):\n",
        "  PROPN = [i.text for i in doc if (not i.is_space) & (not i.is_punct) & (i.pos_==\"PROPN\")]\n",
        "  PROPNList = pd.Series(PROPN)\n",
        "  print(list(PROPNList))\n",
        "\n",
        "names(\"doc\")"
      ],
      "metadata": {
        "colab": {
          "base_uri": "https://localhost:8080/"
        },
        "id": "K4VJnyJbXlRh",
        "outputId": "c548c58b-fa43-4791-bdb8-66e5ce5a7f32"
      },
      "execution_count": 51,
      "outputs": [
        {
          "output_type": "stream",
          "name": "stdout",
          "text": [
            "['DOCTYPE', 'html', 'head', 'meta', 'charset=\"utf-8', 'rel=\"dns', 'prefetch', 'rel=\"dns', 'prefetch', 'rel=\"dns', 'prefetch', 'href=\"https://github', 'cloud.s3.amazonaws.com', 'rel=\"dns', 'prefetch', 'href=\"https://github.githubassets.com', 'crossorigin', 'dark-1ee85695b584.css', 'dark_dimmed-8c42799cfb52.css', 'dark_high_contrast', 'dc99d916bf90.css', 'dark_colorblind-0a83868d0e43.css', 'light_colorblind-3c798f5a8bef.css', 'light_high_contrast-4c72a7f3b765.css', 'theme=\"light_tritanopia', 'light_tritanopia-222bf22536c7.css', 'theme=\"dark_tritanopia', 'c1d9496197fa.css', 'primitives-0b5bee5c70e9.css', 'primer-44fa1513ddd0.css', 'github-07f750db5d7c.css', 'fa69f138fe8d.css', 'type=\"application', 'json', 'dbc26f36fd6b.js\"></script', 'vendors', 'node_modules_smoothscroll', 'polyfill_dist_smoothscroll_js', 'node_modules_stacktrace', 'd2c4d643d9fb.js\"></script', 'observer_dist_index_esm_js-9f960d9b217c.js\"></script', 'node_modules_primer_behaviors_dist_esm_focus', 'vendors', 'node_modules_github_combobox', 'element_dist_index_js-8a621df59e80.js\"></script', 'vendors', 'events_dist_index_js', 'node_modules_stacktrace', 'parser_dist_stack-443cd5', 'node_modules_github_remote', 'co-27181b-3509ed8075c4.js\"></script', 'app_assets_modules_github_onfocus_ts', 'ui_packages-6fe316', 'github', 'elements-34cbf079a4f4.js\"></script', 'node_modules_github_catalyst_lib_index_js', 'node_modules_stacktrace', 'a745699a1cfa.js\"></script', 'form_dist_index_js', 'node_modules_delegated', 'events_dist_inde-893f9f', 'vendors', 'node_modules_scroll', 'anchoring_dist_scroll', 'vendors', 'node_modules_color', 'vendors', 'node_modules_primer_behaviors_dist_esm_dimensions_js', 'node_modules_github_jtml_lib_index_js-95b84ee6bc34.js\"></script', 'ui_packages_alive_alive_ts', 'ui_packages_hydro', 'analytics_hydro', 'ebd80a289a23.js\"></script', 'app_assets_modules_github_behaviors_task', 'list_ts', 'app_assets_modules_github_onfocus_ts', 'app_ass-421cec-9de4213015af.js\"></script', 'error_ts', 'app_assets_modules_github_behaviors_include-2e2258', '05fd80a7ea89.js\"></script', 'app_assets_modules_github_behaviors_ht-83c235', '9285faa0e011.js\"></script', 'a9123655fa03.js\"></script', 'vendors', 'events_dist_index_js', 'node_modules_github_catalyst_lib_index_js-06ff531', 'd2345aaf09af.js\"></script', 'lib-1fbfc5be2c18.js\"></script', '>', 'react_dist_index_esm_js', 'node_modules_primer_react_lib', 'node_modules_primer_react_lib', 'esm_Box_Box_js-8f8c5e2a2cbf.js\"></script', 'node_modules_primer_react_lib', 'vendors', 'node_modules_primer_react_lib', 'node_modules_primer_react_lib', 'esm_ActionList_index_js', 'b5c64c43d649.js\"></script', 'vendors', 'node_modules_primer_react_lib', 'vendors', 'node_modules_primer_react_lib', 'esm_Text_Text_js', 'node_modules_primer_react_lib', 'esm_FormControl_FormControl_js', 'f17f2abffb7f.js\"></script', 'node_modules_primer_react_lib', 'esm_ActionMenu_ActionMenu_js', 'eaf74522e470.js\"></script', 'dom_dist_index_js-3b41341d50fe.js\"></script', 'node_modules_primer_react_lib', 'esm_Heading_Heading_js', 'node_modules_primer_react_lib', 'node_modules_primer_react_lib', 'esm_ConfirmationDialog_ConfirmationDialog_js-8ab472e2f924.js\"></script', 'vendors', 'node_modules_primer_react_lib', 'esm_Dialog_js', 'node_modules_primer_react_lib', 'esm_Spinner-12c50f-77391b895abb.js\"></script', 'vendors', 'node_modules_primer_react_lib', 'node_modules_primer_react_lib', 'bd8666de6779.js\"></script', 'core_register', 'app_ts', 'cf44949b1100.js\"></script', 'ui_packages_paths_index_ts', 'ad6a9a567cec.js\"></script', 'ui_packages_commit', 'attribution_index_ts', 'ui_packages_commit', 'status_index_ts', 'ui_packages', 'app_assets_-e50ab6', 'fd8396d2490b.js\"></script', 'ea33d4266597.js\"></script', 'Econ8320', 'AssignmentData', 'prideAndPrejudiceChapters.txt', 'master', 'dustywhite7', 'Econ8320', 'content=\"/:user_id/:repository', 'name=\"route', 'name=\"route', 'name=\"request', 'content=\"B854:39C3D4:3DC9923:56C3947:661F1277', 'hmac', 'name=\"github', 'value=\"repo_source', 'link', 'content=\"c1kuD', 'K2HIVF635lypcsWPoD4kilo5', 'jA_wBFyT4uMY', 'content=\"GXs5KoUUkNCoaAZn7wPN', 'content=\"Apib7', 'x98H0j5cPqHWwSMm6dNU4GmODRoqxLiDzdx9I', 'content=\"https://collector.github.com', 'github', 'content=\"/&lt;user', 'name=\"viewport', 'width', 'Data', 'Analysis', 'dustywhite7', 'Econ8320', 'GitHub', 'href=\"https://github.com', 'property=\"fb', 'dustywhite7', 'Econ8320', 'blob', 'master', 'AssignmentData', 'prideAndPrejudiceChapters.txt', 'cb47f7ec7ea323ae35129282877c86faaecacf620e3adb93428ae29f73eeea5a', 'dustywhite7', 'Econ8320', '/><meta', 'content=\"@github', 'content=\"Econ8320', 'AssignmentData', 'master', 'dustywhite7', 'Econ8320', '/><meta', 'Data', 'Analysis', 'dustywhite7', 'Econ8320', 'GitHub', 'meta', 'property=\"og', 'content=\"https://opengraph.githubassets.com', 'cb47f7ec7ea323ae35129282877c86faaecacf620e3adb93428ae29f73eeea5a', 'dustywhite7', 'Econ8320', 'property=\"og', 'Data', 'Analysis', 'dustywhite7', 'Econ8320', 'GitHub', 'width', 'content=\"1200', 'content=\"600', 'property=\"og', 'site_name', 'content=\"GitHub', 'property=\"og', 'property=\"og', 'content=\"Econ8320', 'AssignmentData', 'master', 'dustywhite7', 'Econ8320', 'property=\"og', 'url', 'content=\"https://github.com', 'dustywhite7', 'Econ8320', 'blob', 'master', 'AssignmentData', 'prideAndPrejudiceChapters.txt', 'property=\"og', 'Data', 'Analysis', 'dustywhite7', 'Econ8320', 'GitHub', 'name=\"hostname', 'content=\"github.com', 'hostname', 'version', 'content=\"bcb520f139b573f25c7087c7de47adc5411d790c925606362e2155715da7a8fb', 'content=\"no', 'view.959fb0b61e6a1de773e7.module.css', 'content=\"github.com', 'dustywhite7', 'Econ8320', 'git', 'user_id', 'repository_id', 'content=\"dustywhite7', 'Econ8320', 'repository_is_fork', 'repository_network_root_id', 'content=\"95447250', 'content=\"dustywhite7', 'Econ8320', 'name=\"browser', 'name=\"browser', 'rel=\"alternate', 'class=\"js', 'type=\"image', 'rel=\"icon', 'class=\"js', 'href=\"/manifest.json', 'div', 'class=\"px-2', 'content</a', 'Progress', 'style=\"width', 'vendors', 'node_modules_primer_react_lib', 'esm_Button_IconButton_js', 'node_modules_primer_react_lib', 'b964b4', '807461b78d22.js\"></script', 'type=\"application', 'partial.embeddedData\">{\"props\":{\"docsUrl\":\"https://docs.github.com', 'shortcuts\"}}</script', 'div', 'form_dist_index_js', '9f3636b94e7e.js\"></script', 'sessions-79965e14c681.js\"></script', 'Details', '=', 'dark', 'type=\"button', 'border-0', 'left-0', 'aria', 'label=\"Toggle', 'none\">Toggle', 'navigation</span', 'z-1', 'order-2', 'href=\"https://github.com/', 'Header', 'viewBox=\"0', 'version=\"1.1', 'width=\"32', 'octicon', 'github', 'd=\"M8', '0-.27.01', '1.13.01', '0-.75-.25', '1.23-.54', '3.65-.88', '0-.88-.31', '1.02-.08', '0-.67-.22', '1.32-.27', '1.1-.16', '1.92-.08', '1.28-.82', '1.61.55', '2.69.94', '.21-.15.45-.55.38A7.995', 'rounded-2', 'menu&quot;,&quot;repository_id&quot;:null,&quot;auth_type&quot;:&quot;SIGN_UP&quot;,&quot;originating_url&quot;:&quot;https://github.com', 'dustywhite7', 'Econ8320', 'blob', 'master', 'AssignmentData', 'prideAndPrejudiceChapters.txt&quot;,&quot;user_id&quot;:null', 'Header', 'Sign', 'Sign', 'div', 'class=\"flex-1', 'flex', 'order-2', 'button', 'aria', 'label=\"Toggle', 'aria', 'class=\"js', 'Button', 'Button', 'Button', 'd', 'class=\"Button', 'class=\"Button', 'label\"><div', 'my-1\"></div', 'div', 'my-1\"></div', 'div', 'my-1\"></div></span', '/button', 'div', 'class=\"HeaderMenu', 'd', 'p-3', 'lg-0', 'mt', 'nav', 'class=\"mt-0', 'px', 'lg-0', 'mb', 'aria', 'label=\"Global', 'class=\"d', 'li', 'class=\"HeaderMenu', 'type=\"button', 'border-0', 'width', 'px', 'py-3', 'py', 'no', 'expanded=\"false', 'Product', 'svg', 'opacity=\"0.5', 'aria', 'viewBox=\"0', 'version=\"1.1', 'width=\"16', 'octicon', 'HeaderMenu', 'icon', 'ml-1', 'd=\"M12.78', '5.22a.749.749', '/button', 'div', 'm-0', 'p-0', 'py', 'n3', 'd', 'lg-7', 'f5', 'pb', 'Actions&quot;,&quot;label&quot;:&quot;ref_cta', 'Actions;&quot', 'svg', 'aria', 'viewBox=\"0', 'version=\"1.1', 'width=\"24', 'd=\"M1', '3a2', '2h-6.5a2', 'div', '>', 'h4\">Actions</div', 'pb', 'Packages&quot;,&quot;label&quot;:&quot;ref_cta', 'Packages;&quot', 'svg', 'aria', 'viewBox=\"0', 'version=\"1.1', 'width=\"24', 'path', '1.516l-8.25', '4.762a1.748', '0l-8.25', '0Zm.875', 'div', '>', 'h4\">Packages</div', 'pb', 'Security&quot;,&quot;label&quot;:&quot;ref_cta', 'Security;&quot', 'svg', 'aria', 'viewBox=\"0', 'version=\"1.1', 'width=\"24', 'path', 'd=\"m12.54.637', '10V4.976a.25.25', '0Z\"></path', 'div', '>', 'h4\">Security</div', 'pb', 'Codespaces&quot;,&quot;label&quot;:&quot;ref_cta', 'Codespaces;&quot', 'svg', 'aria', 'viewBox=\"0', 'version=\"1.1', 'width=\"24', 'd=\"M3.5', '1.75v7.5A1.75', '3.5a.25.25', 'div', '>', 'h4\">Codespaces</div', 'Instant', 'pb', 'Copilot&quot;,&quot;label&quot;:&quot;ref_cta', 'Copilot;&quot', 'svg', 'aria', 'viewBox=\"0', 'version=\"1.1', 'width=\"24', 'd=\"M23.922', '16.992c-.861', '1.086c0', '3.368.397-.406.89-.717', '1.474-.952', '11.741v6.585c1.435.779', '1.057.403', '1.578v.021c0', '0c.042-.331.063-.628.063-.894v-.02c-.001-.77-.169', '1.271-.438', '2.533-.529', '1.179-.705', '1.902-.394', '0a1', 'div', '>', 'AI', 'pb', 'Code', 'review&quot;,&quot;label&quot;:&quot;ref_cta', 'Code', 'review;&quot', 'href=\"/features', 'svg', 'aria', 'viewBox=\"0', 'version=\"1.1', 'width=\"24', 'octicon', 'd=\"M10.3', '0', '1-.04', '1.06l-2.908', 'div', '>', 'h4\">Code', 'review</div', '>', 'Manage', 'pb', 'Issues&quot;,&quot;label&quot;:&quot;ref_cta', 'Issues;&quot', 'svg', 'aria', 'viewBox=\"0', 'version=\"1.1', 'width=\"24', 'd=\"M12', '1c6.075', '2a2', '14Z\"></path', 'div', '>', 'Discussions&quot;,&quot;label&quot;:&quot;ref_cta', 'Discussions;&quot', 'svg', 'aria', 'viewBox=\"0', 'version=\"1.1', 'width=\"24', '1.75v9.5A1.75', '2.75v9.5c0', '.138.112.25.25.25h2a.75.75', '1.75v9.5A1.75', '18.25v-1.465a.75.75', 'div', '>', 'h4\">Discussions</div', 'h4', 'f5', 'features&quot;,&quot;label&quot;:&quot;ref_cta', 'features;&quot', 'Documentation&quot;,&quot;label&quot;:&quot;ref_cta', 'Documentation;&quot', 'href=\"https://docs.github.com', 'Documentation', 'svg', 'aria', 'viewBox=\"0', 'version=\"1.1', 'width=\"16', 'HeaderMenu', '14h-8.5A1.75', '0', 'GitHub', 'Skills&quot;,&quot;label&quot;:&quot;ref_cta', 'GitHub', 'Skills;&quot', 'GitHub', 'Skills', 'svg', 'aria', 'viewBox=\"0', 'version=\"1.1', 'width=\"16', 'HeaderMenu', '14h-8.5A1.75', '0', 'Blog&quot;,&quot;label&quot;:&quot;ref_cta', 'Blog', 'svg', 'aria', 'viewBox=\"0', 'version=\"1.1', 'width=\"16', 'HeaderMenu', '14h-8.5A1.75', '0', 'li', 'class=\"HeaderMenu', 'type=\"button', 'border-0', 'width', 'px', 'py-3', 'py', 'no', 'expanded=\"false', 'Solutions', 'svg', 'opacity=\"0.5', 'aria', 'viewBox=\"0', 'version=\"1.1', 'width=\"16', 'octicon', 'HeaderMenu', 'icon', 'ml-1', 'd=\"M12.78', '5.22a.749.749', '/button', 'div', 'm-0', 'p-0', 'py', 'h4', 'heading\">For</span', 'f5', 'aria', 'Solutions&quot;,&quot;action&quot;:&quot;click', 'Enterprise&quot;,&quot;label&quot;:&quot;ref_cta', 'Enterprise;&quot', 'Enterprise', 'Solutions&quot;,&quot;action&quot;:&quot;click', 'Teams&quot;,&quot;label&quot;:&quot;ref_cta', 'Teams;&quot', 'Teams', 'Solutions&quot;,&quot;action&quot;:&quot;click', 'Startups&quot;,&quot;label&quot;:&quot;ref_cta', 'Startups;&quot', 'Startups', 'Solutions&quot;,&quot;action&quot;:&quot;click', 'Education;&quot', 'Education', 'svg', 'aria', 'viewBox=\"0', 'version=\"1.1', 'width=\"16', 'HeaderMenu', '14h-8.5A1.75', '0', 'h4', 'Solution</span', 'f5', 'aria', 'Solutions&quot;,&quot;action&quot;:&quot;click', 'CI', 'CD', 'amp;amp', 'CI', 'CD', 'amp;amp', 'Automation;&quot', 'ci', 'cd/', 'CI', 'CD', 'amp', 'Automation', 'Solutions&quot;,&quot;action&quot;:&quot;click', 'DevOps&quot;,&quot;label&quot;:&quot;ref_cta', 'DevOps;&quot', 'DevOps', 'Solutions&quot;,&quot;action&quot;:&quot;click', 'DevSecOps&quot;,&quot;label&quot;:&quot;ref_cta', 'DevSecOps;&quot', 'devsecops/', 'DevSecOps', 'svg', 'aria', 'viewBox=\"0', 'version=\"1.1', 'width=\"16', 'HeaderMenu', '14h-8.5A1.75', '0', 'h4', 'heading\">Resources</span', 'f5', 'aria', 'Solutions&quot;,&quot;action&quot;:&quot;click', 'Learning', 'Learning', 'Pathways;&quot', 'pathways/', 'Learning', 'Pathways', 'svg', 'aria', 'viewBox=\"0', 'version=\"1.1', 'width=\"16', 'HeaderMenu', '14h-8.5A1.75', '0', 'Solutions&quot;,&quot;action&quot;:&quot;click', 'White', 'Ebooks', 'Webinars&quot;,&quot;label&quot;:&quot;ref_cta', 'Ebooks', 'Webinars;&quot', 'White', 'Ebooks', 'Webinars', 'svg', 'aria', 'viewBox=\"0', 'version=\"1.1', 'width=\"16', 'HeaderMenu', '14h-8.5A1.75', '0', 'Solutions&quot;,&quot;action&quot;:&quot;click', 'Customer', 'Stories&quot;,&quot;label&quot;:&quot;ref_cta', 'Customer', 'Stories;&quot', 'Customer', 'Stories', 'Solutions&quot;,&quot;action&quot;:&quot;click', 'Partners&quot;,&quot;label&quot;:&quot;ref_cta', 'Partners;&quot', 'Partners', 'svg', 'aria', 'viewBox=\"0', 'version=\"1.1', 'width=\"16', 'HeaderMenu', '14h-8.5A1.75', '0', 'li', 'class=\"HeaderMenu', 'type=\"button', 'border-0', 'width', 'px', 'py-3', 'py', 'no', 'expanded=\"false', 'Open', 'Source', 'svg', 'opacity=\"0.5', 'aria', 'viewBox=\"0', 'version=\"1.1', 'width=\"16', 'octicon', 'HeaderMenu', 'icon', 'ml-1', 'd=\"M12.78', '5.22a.749.749', '/button', 'div', 'm-0', 'p-0', 'py', 'f5', 'GitHub', 'Sponsors&quot;,&quot;label&quot;:&quot;ref_cta', 'GitHub', 'Sponsors;&quot', 'div', '>', 'f5', 'ReadME', 'Project&quot;,&quot;label&quot;:&quot;ref_cta', 'ReadME', 'Project;&quot', 'div', '>', 'ReadME', 'GitHub', 'h4', 'heading\">Repositories</span', 'f5', 'Topics&quot;,&quot;label&quot;:&quot;ref_cta', 'Topics;&quot', 'Topics', 'Trending&quot;,&quot;label&quot;:&quot;ref_cta', 'Trending;&quot', 'Trending', 'Collections&quot;,&quot;label&quot;:&quot;ref_cta', 'Collections;&quot', 'li', 'class=\"HeaderMenu', 'px', 'py-3', 'py', 'out)&quot;,&quot;action&quot;:&quot;click', 'Pricing&quot;,&quot;label&quot;:&quot;ref_cta', 'Pricing;&quot', 'href=\"/pricing\">Pricing</a', 'scope=\"repo', 'dustywhite7', 'Econ8320', 'scopes=\"10', 'Econ8320', 'rails_csrf_token_form_hidden?r', 'NRB%2BCInm%2B6XWMcBGpYTquA%3D%3D&quot', 'button', 'type=\"button', 'flex-1', 'border-0', 'box', 'input.inputButton', 'class=\"mr-2', 'svg', 'aria', 'viewBox=\"0', 'version=\"1.1', 'width=\"16', '3.04a.749.749', 'svg', 'svg', 'width=\"22', 'height=\"20', 'd=\"M3.5.5h12c1.7', 'class=\"js', 'aria', 'modal=\"true', 'aria', 'Overlay', 'div', 'style=\"border', '--><!--', 'id=\"query', 'key=', 'div', 'class=\"FormControl', 'FormControl', 'id=\"query', 'Search', '>', 'div', 'class=\"QueryBuilder', 'StyledInput', 'id=\"query', 'QueryBuilder', 'leadingVisualWrap', 'svg', 'aria', 'viewBox=\"0', 'version=\"1.1', 'width=\"16', 'FormControl', '3.04a.749.749', 'class=\"QueryBuilder', 'div', 'aria', 'class=\"QueryBuilder', 'class=\"QueryBuilder', 'div', 'aria', 'class=\"QueryBuilder', 'Sizer', 'builder.sizer\"></div', 'id=\"query', 'autocomplete=\"off', 'type=\"text', 'aria', 'query', 'QueryBuilder', 'Input', 'FormControl', 'button', 'role=\"button', 'id=\"query', 'aria', 'builder.clearButton', 'type=\"button', 'Button', 'Button', 'Button', 'svg', 'aria', 'viewBox=\"0', 'version=\"1.1', 'width=\"16', 'octicon', 'Button', 'd=\"M2.343', '1.042L6.94', '.734-.215L8', '0-.326', 'id=\"search', 'svg', 'aria', 'viewBox=\"0', 'version=\"1.1', 'width=\"16', '3.04a.749.749', '/template', 'svg', 'aria', 'viewBox=\"0', 'version=\"1.1', 'width=\"16', 'octicon', 'code', '8l-3.72', '/template', 'svg', 'aria', 'viewBox=\"0', 'version=\"1.1', 'width=\"16', 'd=\"M4', '0h5.586c.464', '15h-9a.75.75', '4.25V1.5H5.75a.25.25', '2a.75.75', '.215-.734l1.47', '/template', 'id=\"history', 'svg', 'aria', 'viewBox=\"0', 'version=\"1.1', 'width=\"16', 'path', '1.358A.25.25', '/template', 'svg', 'aria', 'viewBox=\"0', 'version=\"1.1', 'width=\"16', 'd=\"M2', '0h8.75a.75.75', '0', '/template', 'id=\"bookmark', 'svg', 'aria', 'viewBox=\"0', 'version=\"1.1', 'width=\"16', 'octicon', 'd=\"M3', '11.722l-3.773', '2.49V2.75a.25.25', '/template', 'svg', 'aria', 'viewBox=\"0', 'version=\"1.1', 'width=\"16', 'd=\"M8', '0a8', '/template', 'svg', 'aria', 'viewBox=\"0', 'version=\"1.1', 'width=\"16', 'd=\"M8', '/template', 'svg', 'aria', 'viewBox=\"0', 'version=\"1.1', 'width=\"16', 'path', 'd=\"M11', '1.75V3h2.25a.75.75', '15h-5.19a1.75', '1.75V3h3V1.75a.25.25', '/template', 'id=\"team', 'svg', 'aria', 'viewBox=\"0', 'version=\"1.1', 'width=\"16', 'd=\"M2', '/template', 'id=\"project', 'svg', 'aria', 'viewBox=\"0', 'version=\"1.1', 'width=\"16', '0h12.5C15.216', '0v-7.5a.75.75', '/template', 'id=\"pencil', 'svg', 'aria', 'viewBox=\"0', 'version=\"1.1', 'width=\"16', 'octicon', 'd=\"M11.013', '0l1.086', '0-.354', '0L10.811', '/template', 'svg', 'aria', 'viewBox=\"0', 'version=\"1.1', 'width=\"16', '15.035c-4.562', '1.084-.254', '1.206-.134', '1.738-.899', '2.944-.765', '1.148-.254', '1.236-.081', '1.727-.291l-.023.116v4.255c.419.323', '1.433ZM6.762', '2.83c-.193-.206-.637-.413', '1.682-.297', '1.638.54.922', '/template', 'svg', 'aria', 'viewBox=\"0', 'version=\"1.1', 'width=\"16', 'octicon', 'workflow', 'd=\"M0', '1.75C0', '16h-3.5A1.75', '/template', 'svg', 'aria', 'viewBox=\"0', 'version=\"1.1', 'width=\"16', 'octicon', 'd=\"M0', '1h4.253c1.227', '0l-.622-.621A2.25', '10.324.004', '7.322a3.752', '/template', 'svg', 'aria', 'viewBox=\"0', 'version=\"1.1', 'width=\"16', 'octicon', '1.75v8.5A1.75', '2.75v8.5c0', '.138.112.25.25.25h2a.75.75', '2a.75.75', '/template', 'id=\"codespaces', 'svg', 'aria', 'viewBox=\"0', 'version=\"1.1', 'width=\"16', 'd=\"M0', '11.25c0-.966.784', '12.75a.75.75', '/template', 'svg', 'aria', 'viewBox=\"0', 'version=\"1.1', 'width=\"16', 'd=\"M1', '2.75C1', '1.75v7.5A1.75', '.138.112.25.25.25h2a.75.75', '/template', 'svg', 'aria', 'viewBox=\"0', 'version=\"1.1', 'width=\"16', '2.75v5.5c0', '.138.112.25.25.25h1a.75.75', '1.03L9.22', '/template', 'id=\"organization', 'svg', 'aria', 'viewBox=\"0', 'version=\"1.1', 'width=\"16', 'octicon', '1.248l1.055.703c.487.325.779.871.779', '1-.75-.75V14h-1v1.25a.75.75', '.138.112.25.25.25H4v-1.25a.75.75', '6h.5a.75.75', '3h.5a.75.75', '6h.5a.75.75', '9.75A.75.75', '9h.5a.75.75', '9h.5a.75.75', '/template', 'svg', 'aria', 'viewBox=\"0', 'version=\"1.1', 'width=\"16', 'path', 'd=\"M14.064', '6.186l-.458.459c-.314.314-.641.616-.979.904v3.207c0', '.608-.315', '1.172-.833', '1.49l-2.774', '1.707a.749.749', '4h3.204c.288-.338.59-.665.904-.979l.459-.458A8.749', '1-.064-.201c.103-.671.416', '5a1', '/template', 'id=\"shield', 'svg', 'aria', 'viewBox=\"0', 'version=\"1.1', 'width=\"16', 'd=\"m8.533.133', '4.682-.983', '1.68a.251.251', '0-.174.237V7c0', '1.36.275', '0c2.245-.957', '3.297C13.225', '0', '/template', 'svg', 'aria', 'viewBox=\"0', 'version=\"1.1', 'width=\"16', '14.25.345.666a.75.75', '0l-.008-.004-.018-.01a7.152', '2.584l-.018.01-.006.003h-.002ZM4.25', '2.456a.749.749', '/template', 'svg', 'aria', 'viewBox=\"0', 'version=\"1.1', 'width=\"16', '1.75v4c0', '12.75v-4c0-.358.109-.707.314', '1a1.739', '0', '1-.314', '1.784.784', '2.75v4c0', '4.75A.75.75', '4h.5a.75.75', '/template', 'id=\"globe', 'svg', 'aria', 'viewBox=\"0', 'version=\"1.1', 'width=\"16', 'octicon', 'd=\"M8', '0a8', '0-.857', '2.074-.866', '/template', 'id=\"issue', 'svg', 'aria', 'viewBox=\"0', 'version=\"1.1', 'width=\"16', 'd=\"M8', 'd=\"M8', '0a8', '/template', 'svg', 'aria', 'viewBox=\"0', 'version=\"1.1', 'width=\"16', '1.75v12.5c0', '/template', 'svg', 'aria', 'viewBox=\"0', 'version=\"1.1', 'width=\"16', 'd=\"m8.878.392', '1-.872', '/template', 'svg', 'aria', 'viewBox=\"0', 'version=\"1.1', 'width=\"16', '9a.75.75', 'd=\"M0', '1.75v8.5A1.75', '14H1.75A1.75', '/template', 'id=\"play', 'svg', 'aria', 'viewBox=\"0', 'version=\"1.1', 'width=\"16', 'd=\"M8', '0a8', '/template', 'svg', 'aria', 'viewBox=\"0', 'version=\"1.1', 'width=\"16', 'd=\"M2', '2.75A2.75', '1.232.268.318.497.668.68', '1.75v2c0', '4h.55c-.192-.375-.3-.8-.3', '1.25ZM7.25', '9.5H2.5v4.75c0', '.138.112.25.25.25h4.5Zm1.5', '0v5h4.5a.25.25', '/template', 'svg', 'aria', 'viewBox=\"0', 'version=\"1.1', 'width=\"16', 'octicon', 'd=\"M0', '1.75C0', '0h12.5C15.216', '2a.75.75', '/template', 'svg', 'aria', 'viewBox=\"0', 'version=\"1.1', 'width=\"16', 'path', 'd=\"M14.25', '1c.966', '1.75v7.5A1.75', '12h-3.727c.099', '1-.565', '1-.765', '1-.765', '/template', '<', 'ul', 'QueryBuilder', 'ListWrap', 'aria', 'div', 'id=\"validation-2506684f-7087', 'span', 'class=\"FormControl', 'svg', 'aria', 'height=\"12', 'viewBox=\"0', 'version=\"1.1', 'width=\"12', '7V3H5v4Zm-1', 'class=\"sr', 'href=\"https://docs.github.com', 'github', 'github', 'github', 'flex-1\"></div', 'dialog></div', 'input#handleDialogClose', 'aria', 'modal=\"true', 'Overlay', 'div', 'button', 'type=\"button', 'viewBox=\"0', 'version=\"1.1', 'width=\"16', 'octicon', '0', '1.042L6.94', 'div', '--><!--', 'action=\"/search', 'name=\"authenticity_token', 'value=\"c8GmJx/8YZWZdDFYBu', 'WT1W2SAyVvKaa0QFyTsvt+Lyj85gi4ytvoGQPPPw+tkD0Mxtyw', 'fxYdHnNoRvACxrPw==', 'seriously.</p', 'textarea', 'id=\"feedback\"></textarea', 'name=\"include_email', 'id=\"include_email', 'style=\"font', 'contacted</label', 'div', 'type=\"button', 'Cancel', 'input#handleDialogClose', 'input#handleDialogClose', 'aria', 'modal=\"true', 'aria', 'aria', 'Overlay', 'div', 'Saved', 'h2', 'button', 'type=\"button', 'viewBox=\"0', 'version=\"1.1', 'width=\"16', 'octicon', '0', '1.042L6.94', 'div', 'div', '--><!--', 'custom_scopes', 'name=\"authenticity_token', 'div', 'id=\"custom_scope_id', 'name=\"custom_scope_id', 'scopes.customScopesIdField', 'label', 'for=\"custom_scope_name\">Name</label', 'custom_scopes', 'check_name', 'placeholder=\"github', 'ruby', 'maxlength=\"50', 'label', 'for=\"custom_scope_query\">Query</label', 'mona', 'mona', 'b', 'lang', 'python', 'maxlength=\"500', 'p', '<', 'inTextBlock', 'href=\"https://docs.github.com', 'github', 'github', 'github', 'div', 'div', 'div', 'scopes#customScopesCancel', 'Cancel', 'scopes.customScopesSubmitButton', 'class=\"js', 'value=\"H2CVrlK52uxAHiySG', 'mr', 'lg-3', 'd', 'HeaderMenu', 'link', 'p-2', 'menu&quot;,&quot;repository_id&quot;:null,&quot;auth_type&quot;:&quot;SIGN_UP&quot;,&quot;originating_url&quot;:&quot;https://github.com', 'dustywhite7', 'Econ8320', 'blob', 'master', 'AssignmentData', 'prideAndPrejudiceChapters.txt&quot;,&quot;user_id&quot;:null', 'Header', 'Sign', 'Sign', 'HeaderMenu', 'link', 'd', 'd', 'menu&quot;,&quot;repository_id&quot;:null,&quot;auth_type&quot;:&quot;SIGN_UP&quot;,&quot;originating_url&quot;:&quot;https://github.com', 'dustywhite7', 'Econ8320', 'blob', 'master', 'AssignmentData', 'prideAndPrejudiceChapters.txt&quot;,&quot;user_id&quot;:null', 'up&quot;,&quot;action&quot;:&quot;click', 'account&quot;,&quot;label&quot;:&quot;ref_page:/&lt;user', 'name&gt;/blob', 'Sign', 'up;ref_loc', 'out&quot', 'Sign', 'class=\"js', 'svg', 'aria', 'viewBox=\"0', 'version=\"1.1', 'width=\"16', '0l6.082', '0', '0L1.698', 'class=\"js', 'inTextBlock', 'class=\"js', 'inTextBlock', 'class=\"js', 'inTextBlock', 'id=\"icon', 'ad2f7da1e629', 'b6b960f4', 'a683', 'type=\"button', 'Button', 'Button', 'Button', 'svg', 'aria', 'viewBox=\"0', 'version=\"1.1', 'width=\"16', 'octicon', 'Button', '0', '1.042L6.94', 'id=\"tooltip', 'b6b960f4', 'a683', 'for=\"icon', 'button-82b96ec4', 'ad2f7da1e629', 'type=\"label', 'class=\"js', 'div', 'className', 'button', 'type=\"button', 'aria', 'svg', 'aria', 'viewBox=\"0', 'version=\"1.1', 'width=\"16', 'octicon', '0', '1.042L6.94', '/button', 'div', 'aria', 'class=\"js', 'div', '>', '/template', 'class=\"js', 'div', 'itemscope', 'itemtype=\"http://schema.org', 'SoftwareSourceCode', 'px', 'px', 'div', 'class=\"flex', 'svg', 'aria', 'viewBox=\"0', 'version=\"1.1', 'width=\"16', 'd=\"M2', '0h8.75a.75.75', '0', 'data', 'url=\"/users', 'dustywhite7', 'hovercard', 'dimensions=\"link_type', 'href=\"/dustywhite7', 'dustywhite7', 'itemprop=\"name', 'href=\"/dustywhite7', 'Econ8320\">Econ8320</a', '>', 'span></span><span', 'class=\"Label', 'Label', 'mr-1\">Public</span', 'd', 'd', 'li', 'watch&quot;,&quot;repository_id&quot;:null,&quot;auth_type&quot;:&quot;LOG_IN&quot;,&quot;originating_url&quot;:&quot;https://github.com', 'dustywhite7', 'Econ8320', 'blob', 'master', 'AssignmentData', 'prideAndPrejudiceChapters.txt&quot;,&quot;user_id&quot;:null', 'click', 'hmac=\"2cac0fd8ae306db15fd7af4f0fed3ba7d67ca845aeb9deb419a077e0a7fd8783', 'aria', 'label=\"You', 'svg', 'aria', 'viewBox=\"0', 'version=\"1.1', 'width=\"16', 'octicon', 'bell', 'd=\"M8', '1.75c.017-.137-.097-.25-.235-.25h-3.5c-.138', '.346-.102.683-.294.97l-1.703', '0-.003.01l.001.006c0', '.002.002.004.004.006l.006.004.007.001h10.964l.007-.001.006-.004.004-.006.001-.007a.017.017', '0-.003-.01l-1.703', 'id=\"fork', 'href=\"/login?return_to=%2Fdustywhite7%2FEcon8320', 'button&quot;,&quot;repository_id&quot;:95447250,&quot;auth_type&quot;:&quot;LOG_IN&quot;,&quot;originating_url&quot;:&quot;https://github.com', 'dustywhite7', 'Econ8320', 'blob', 'master', 'AssignmentData', 'prideAndPrejudiceChapters.txt&quot;,&quot;user_id&quot;:null', 'class=\"btn', 'sm', 'svg', 'aria', 'viewBox=\"0', 'version=\"1.1', 'width=\"16', 'd=\"M5', '5.372v.878c0', '2.25h-1.5v2.128a2.251', 'Fork', 'title=\"10', 'li', 'div', 'button&quot;,&quot;repository_id&quot;:95447250,&quot;auth_type&quot;:&quot;LOG_IN&quot;,&quot;originating_url&quot;:&quot;https://github.com', 'dustywhite7', 'Econ8320', 'blob', 'master', 'AssignmentData', 'prideAndPrejudiceChapters.txt&quot;,&quot;user_id&quot;:null', 'aria', 'label=\"You', 'BtnGroup', 'svg', 'aria', 'viewBox=\"0', 'version=\"1.1', 'width=\"16', 'octicon', 'd', 'd=\"M8', '4.21.612a.75.75', '2.97.719', '12.347l-3.766', '1.088-.79l.72', '6.374a.75.75', 'Star', 'aria', 'label=\"10', 'title=\"10', 'js', 'button', 'aria', 'label=\"You', 'type=\"button', 'BtnGroup', 'svg', 'aria', 'viewBox=\"0', 'version=\"1.1', 'width=\"16', 'octicon', '3.396a.25.25', '0l3.396', '3.396A.25.25', 'nav', 'aria', 'class=\"js', 'js', 'sidenav', 'UnderlineNav', 'px', 'lg-5', 'ul', 'li', 'data', 'id=\"code', 'href=\"/dustywhite7', 'Econ8320', 'links=\"repo_source', '/dustywhite7', 'Econ8320', 'hotkey=\"g', 'c', 'tab&quot;,&quot;label&quot;:&quot;Code&quot;,&quot;target&quot;:&quot;UNDERLINE_NAV.TAB&quot', 'aria', 'svg', 'aria', 'viewBox=\"0', 'version=\"1.1', 'width=\"16', 'octicon', 'UnderlineNav', 'octicon', 'd', 'd', '8l-3.72', 'data', 'content=\"Code\">Code</span', 'id=\"code', 'class=\"Counter\"></span', '<', 'li', 'data', 'id=\"issues', 'href=\"/dustywhite7', 'Econ8320', '/dustywhite7', 'Econ8320', 'hotkey=\"g', 'svg', 'aria', 'viewBox=\"0', 'version=\"1.1', 'width=\"16', 'UnderlineNav', 'octicon', 'd', 'd', 'd=\"M8', 'd=\"M8', '0a8', 'title=\"0', 'class=\"Counter\">0</span', '<', 'li', 'data', 'href=\"/dustywhite7', 'Econ8320', '/dustywhite7', 'Econ8320', 'hotkey=\"g', 'svg', 'aria', 'viewBox=\"0', 'version=\"1.1', 'width=\"16', 'octicon', 'UnderlineNav', 'octicon', 'd', 'd', 'd=\"M1.5', '3.25a2.25', '0', '0V5a1', 'data', 'content=\"Pull', 'requests</span', 'id=\"pull', 'title=\"0', 'class=\"Counter\">0</span', '<', 'li', 'data', 'href=\"/dustywhite7', 'Econ8320', 'links=\"repo_actions', '/dustywhite7', 'Econ8320', 'hotkey=\"g', 'event=\"{&quot;category&quot;:&quot;Underline', 'svg', 'aria', 'viewBox=\"0', 'version=\"1.1', 'width=\"16', 'UnderlineNav', 'octicon', 'd', 'd', 'd=\"M8', '0a8', 'data', 'content=\"Actions\">Actions</span', 'class=\"Counter\"></span', '<', 'li', 'data', 'href=\"/dustywhite7', 'Econ8320', 'Econ8320', 'hotkey=\"g', 'b', 'event=\"{&quot;category&quot;:&quot;Underline', 'svg', 'aria', 'viewBox=\"0', 'version=\"1.1', 'width=\"16', 'UnderlineNav', 'octicon', 'd', 'd', 'd=\"M0', '1.75C0', '0h12.5C15.216', '5V1.5H1.75a.25.25', '0', 'content=\"Projects\">Projects</span', 'title=\"0', 'class=\"Counter\">0</span', '<', 'li', 'data', 'href=\"/dustywhite7', 'Econ8320', 'Econ8320', 'hotkey=\"g', 'event=\"{&quot;category&quot;:&quot;Underline', 'svg', 'aria', 'viewBox=\"0', 'version=\"1.1', 'width=\"16', 'UnderlineNav', 'octicon', 'd', 'd', 'd=\"M7.467.133a1.748', '4.682-.983', '1.429a.25.25', '0', '0-.174.238V7c0', '3.298C13.225', 'data', 'content=\"Security\">Security</span', 'src=\"/dustywhite7', 'Econ8320', '<', 'li', 'data', 'href=\"/dustywhite7', 'Econ8320', 'links=\"repo_graphs', '/dustywhite7', 'Econ8320', 'event=\"{&quot;category&quot;:&quot;Underline', 'svg', 'aria', 'viewBox=\"0', 'version=\"1.1', 'width=\"16', 'UnderlineNav', 'octicon', 'd', 'd', 'd=\"M1.5', '1.75V13.5h13.75a.75.75', '0', 'data', 'content=\"Insights\">Insights</span', 'class=\"Counter\"></span', 'pr', 'md-4', 'right-0', 'button', 'aria', 'aria', 'labelledby=\"tooltip-30f503c7', 'b712', '4abb', 'ba66', 'type=\"button', 'Button', 'Button', 'Button', 'UnderlineNav', 'svg', 'aria', 'viewBox=\"0', 'version=\"1.1', 'width=\"16', 'octicon', 'Button', 'd=\"M8', 'id=\"tooltip-30f503c7', 'b712', '4abb', 'ba66', '816fc89d505a', 'type=\"label', 'tip', 'Overlay', 'div', 'div', '<', 'ul', 'aria', 'li', 'hidden=\"hidden', 'tabindex=\"-1', 'e108', 'href=\"/dustywhite7', 'Econ8320', 'class=\"ActionListContent', 'ActionListContent', 'svg', 'aria', 'viewBox=\"0', 'version=\"1.1', 'width=\"16', 'octicon', 'code', '8l-3.72', 'Code', 'li', 'hidden=\"hidden', 'tabindex=\"-1', 'id=\"item-94eee7e5', 'href=\"/dustywhite7', 'Econ8320', 'class=\"ActionListContent', 'ActionListContent', 'svg', 'aria', 'viewBox=\"0', 'version=\"1.1', 'width=\"16', 'd=\"M8', 'd=\"M8', '0a8', 'Issues', 'li', 'hidden=\"hidden', 'tabindex=\"-1', 'id=\"item-9fd87088', 'db09', '4ce7', 'eb8a7c349f5d', 'href=\"/dustywhite7', 'Econ8320', 'class=\"ActionListContent', 'ActionListContent', 'svg', 'aria', 'viewBox=\"0', 'version=\"1.1', 'width=\"16', 'octicon', 'd=\"M1.5', '3.25a2.25', '0', '0V5a1', 'li', 'hidden=\"hidden', 'href=\"/dustywhite7', 'Econ8320', 'class=\"ActionListContent', 'ActionListContent', 'svg', 'aria', 'viewBox=\"0', 'version=\"1.1', 'width=\"16', 'd=\"M8', '0a8', 'Actions', 'li', 'hidden=\"hidden', 'tabindex=\"-1', 'id=\"item-93b91994', 'href=\"/dustywhite7', 'Econ8320', 'class=\"ActionListContent', 'ActionListContent', 'svg', 'aria', 'viewBox=\"0', 'version=\"1.1', 'width=\"16', 'd=\"M0', '1.75C0', '0h12.5C15.216', '5V1.5H1.75a.25.25', '0', 'Projects', 'li', 'hidden=\"hidden', 'tabindex=\"-1', 'id=\"item-45e98a57', 'b7f8', 'href=\"/dustywhite7', 'Econ8320', 'class=\"ActionListContent', 'ActionListContent', 'svg', 'aria', 'viewBox=\"0', 'version=\"1.1', 'width=\"16', 'd=\"M7.467.133a1.748', '4.682-.983', '1.429a.25.25', '0', '0-.174.238V7c0', '3.298C13.225', 'Security', 'li', 'hidden=\"hidden', 'tabindex=\"-1', 'id=\"item', 'href=\"/dustywhite7', 'Econ8320', 'class=\"ActionListContent', 'ActionListContent', 'svg', 'aria', 'viewBox=\"0', 'version=\"1.1', 'width=\"16', 'octicon', 'd=\"M1.5', '1.75V13.5h13.75a.75.75', '0', 'Econ8320', 'blob', 'master', 'AssignmentData', 'prideAndPrejudiceChapters.txt', 'calc(100vh', 'type=\"application', 'assignment2Data.csv\",\"contentType\":\"file\"},{\"name\":\"assignment8Data.csv\",\"path\":\"AssignmentData', 'assignment8Data.csv\",\"contentType\":\"file\"},{\"name\":\"exampleData.db\",\"path\":\"AssignmentData', 'exampleData.db\",\"contentType\":\"file\"},{\"name\":\"janeEyreCh1to3.txt\",\"path\":\"AssignmentData', 'janeEyreCh1to3.txt\",\"contentType\":\"file\"},{\"name\":\"prideAndPrejudiceChapters.txt\",\"path\":\"AssignmentData', 'prideAndPrejudiceChapters.txt\",\"contentType\":\"file\"},{\"name\":\"stateCodesUS.csv\",\"path\":\"AssignmentData', 'DS_Store\",\"path\":\"', '26T13:05:39.000Z\",\"ownerAvatar\":\"https://avatars.githubusercontent.com', 'u/5835928?v=4\",\"public\":true,\"private\":false,\"isOrgOwned\":false},\"codeLineWrapEnabled\":false,\"symbolsExpanded\":false,\"treeExpanded\":true,\"refInfo\":{\"name\":\"master\",\"listCacheKey\":\"v0:1498482340.0\",\"canEdit\":false,\"refType\":\"branch\",\"currentOid\":\"48cacab1239d625e6cc5f48503ade5e8209baa3e\"},\"path\":\"AssignmentData', 'Mr.', 'Darcy', 'Pemberley', 'their\",\"arrival', 'Lambton', 'Elizabeth', 'embarrassment\",\"of', 'many\",\"of', 'these\",\"newly', 'of\",\"Elizabeth', 'disquiet,\",\"she', 'much\",\"in', '\",\"\",\"She', 'walked\",\"up', 'Darcy', 'introduction\",\"took', 'Elizabeth', 'Lambton', 'Miss', 'Darcy', 'Darcy', 'Elizabeth', 'Elizabeth', 'Mr.', 'Darcy', 'Mr.', 'Darcy', 'Bingley\",\"was', 'Bingley', 'quick\",\"step', 'All\",\"Elizabeth', 'still\",\"felt', 'unaffected\",\"cordiality', '\",\"\",\"To', 'Mr.', 'Mrs.', 'Gardiner', 'personage\",\"than', 'before\",\"them', 'just\",\"arisen', 'Mr.', 'Darcy', 'towards\",\"each', 'from\",\"those', 'little\",\"in', 'and\",\"to', 'Georgiana', 'Darcy', 'Bingley', 'notion\",\"that', 'Miss', 'Darcy', 'Jane', 'Jane', 'saying\",\"more', 'tone\",\"which', 'since\",\"he', 'reply,\",\"he', 'of\",\"November', 'Netherfield', 'whether\",\"_all', 'Longbourn', '\",\"\",\"It', 'Mr.', 'Darcy', 'himself;\",\"but', 'general\",\"complaisance', 'removed\",\"from', 'however\",\"temporary', 'When\",\"she', 'opinion\",\"of', 'Hunsford', 'Parsonage', 'was\",\"so', 'Netherfield', 'relations\",\"at', 'importance\",\"could', 'Netherfield', 'Mr.', 'Darcy', 'expressing\",\"their', 'Mr.', 'Mrs.', 'Gardiner', 'Miss', 'Bennet', 'dinner\",\"at', 'Pemberley', 'Miss', 'Darcy', 'Mrs.', 'Gardiner', 'knowing\",\"how', 'Elizabeth', '\",\"\",\"Bingley', 'Hertfordshire', 'Elizabeth', 'some\",\"satisfaction', 'aunt', 'Bingley', 'Mr.', 'Mrs.', 'Gardiner', 'Mr.', 'Darcy', '\",\"\",\"Of', 'Mr.', 'Darcy', 'far\",\"as', 'character\",\"from', 'Hertfordshire', 'Mr.', 'Darcy', 'four\",\"years', 'of\",\"their', 'Lambton', 'not,\",\"it', 'Wickham', 'Mr.', 'Darcy', '\",\"\",\"As', 'Elizabeth', 'Pemberley', 'she\",\"had', 'some\",\"time', 'heightened\",\"into', '\",\"It', 'bent\",\"on', 'much\",\"pride', 'ardent\",\"love', '\",\"\",\"It', 'that\",\"such', 'Miss', 'Darcy', 'Pemberley', 'equalled,\",\"by', 'that\",\"it', 'Pemberley', 'following\",\"morning', 'Elizabeth', 'when\",\"she', 'Gardiner', 'Pemberley', 'Elizabeth', 'Miss', 'Bingley', 'Pemberley', 'woody\",\"hills', 'Spanish', 'chestnuts\",\"which', 'Miss', 'Darcy', 'there\",\"with', 'Mrs.', 'Hurst', 'Miss', 'Bingley', 'in\",\"London', 'Georgiana', 'Mrs.', 'Gardiner', '\",\"\",\"By', 'Mrs.', 'Hurst', 'Miss', 'Bingley', 'and,\",\"on', 'Mrs.', 'Annesley', 'kind\",\"of', 'Mrs.', 'Gardiner', 'from\",\"Elizabeth', 'Miss', 'Darcy', '\",\"\",\"Elizabeth', 'Miss', 'Bingley,\",\"and', 'Miss', 'Darcy', 'necessity\",\"of', 'Miss\",\"Bingley', 'Elizabeth', 'Mrs.', 'Annesley', 'Miss', 'Darcy', 'been\",\"given', 'whole\",\"party', 'collected\",\"them', '\",\"\",\"While', 'Elizabeth', 'Mr.', 'Darcy', 'but\",\"a', '\",\"\",\"He', 'Mr.', 'Gardiner', 'Elizabeth', 'more\",\"necessary', 'she\",\"saw', 'them,\",\"and', 'Miss', 'Bingley', 'attentions\",\"to', 'Mr.', 'Darcy', 'Miss', 'Darcy', 'Elizabeth', 'Miss\",\"Bingley', 'civility:\",\"\",\"“Pray', 'Miss', 'Eliza', 'Militia', '”\",\"\",\"In', 'Darcy', 'Wickham', 'Darcy', 'Miss', 'Bingley', 'what\",\"pain', 'in\",\"Darcy', 'connected\",\"with', 'Miss', 'Elizabeth', 'Bingley', 'Elizabeth', '\",\"\",\"Elizabeth', 'and\",\"as', 'Miss', 'Bingley', 'nearer', 'to\",\"Wickham', 'Georgiana', 'able\",\"to', 'Elizabeth', 'above\",\"mentioned', 'Mr.', 'Darcy', 'Elizabeth', 'Georgiana', 'Elizabeth', 'When\",\"Darcy', 'Miss', 'Bingley', 'to\",\"him', 'Miss', 'Eliza', 'Bennet', 'Mr.', 'Darcy', 'Louisa', 'Mr.', 'Darcy', 'contented\",\"himself', 'nose\",\"wants', 'anything\",\"extraordinary', 'Miss', 'Bingley', 'Darcy', 'Elizabeth', 'always\",\"wise', 'continued:\",\"\",\"“I', 'Hertfordshire', 'Netherfield', 'She_\",\"a', 'Darcy', 'Miss', 'Bingley', 'Gardiner', 'Elizabeth', 'their\",\"visit', 'them\",\"both', 'Elizabeth', 'Mrs.', 'Gardiner', 'Mrs.', 'Gardiner', '\"],\"stylingDirectives\":[[],[],[],[],[],[],[],[],[],[],[],[],[],[],[],[],[],[],[],[],[],[],[],[],[],[],[],[],[],[],[],[],[],[],[],[],[],[],[],[],[],[],[],[],[],[],[],[],[],[],[],[],[],[],[],[],[],[],[],[],[],[],[],[],[],[],[],[],[],[],[],[],[],[],[],[],[],[],[],[],[],[],[],[],[],[],[],[],[],[],[],[],[],[],[],[],[],[],[],[],[],[],[],[],[],[],[],[],[],[],[],[],[],[],[],[],[],[],[],[],[],[],[],[],[],[],[],[],[],[],[],[],[],[],[],[],[],[],[],[],[],[],[],[],[],[],[],[],[],[],[],[],[],[],[],[],[],[],[],[],[],[],[],[],[],[],[],[],[],[],[],[],[],[],[],[],[],[],[],[],[],[],[],[],[],[],[],[],[],[],[],[],[],[],[],[],[],[],[],[],[],[],[],[],[],[],[],[],[],[],[],[],[],[],[],[],[],[],[],[],[],[],[],[],[],[],[],[],[],[],[],[],[],[],[],[],[],[],[],[],[],[],[],[],[],[],[],[],[],[],[],[],[],[],[],[],[],[],[],[],[],[],[],[],[],[],[],[],[],[],[],[],[],[],[],[],[],[],[],[],[],[],[],[],[],[],[],[],[],[],[],[],[],[],[],[],[],[],[],[],[],[],[],[],[],[],[],[],[],[],[],[],[],[],[],[],[],[],[],[],[],[],[],[],[],[],[],[],[],[],[],[],[],[],[],[],[],[],[],[],[],[],[],[],[],[],[],[],[],[],[],[],[],[],[],[],[],[],[],[],[],[],[],[],[],[],[],[],[],[],[],[],[],[],[],[],[],[],[],[],[],[],[],[],[],[],[],[],[],[],[],[],[]],\"colorizedLines\":null,\"csv\":null,\"csvError\":null,\"dependabotInfo\":{\"showConfigurationBanner\":false,\"configFilePath\":null,\"networkDependabotPath\":\"/dustywhite7', 'Econ8320', 'dependabot_configuration_notice\",\"configurationNoticeDismissed\":null},\"displayName\":\"prideAndPrejudiceChapters.txt\",\"displayUrl\":\"https://github.com', 'dustywhite7', 'Econ8320', 'blob', 'master', 'AssignmentData', 'changes\",\"editTooltip\":\"You', 'https%3A%2F%2Fgithub.com%2Fdustywhite7%2FEcon8320%2Fblob%2Fmaster%2FAssignmentData%2FprideAndPrejudiceChapters.txt\",\"isCSV\":false,\"isRichtext\":false,\"toc\":null,\"lineInfo\":{\"truncatedLoc\":\"393\",\"truncatedSloc\":\"349\"},\"mode\":\"file\"},\"image\":false,\"isCodeownersFile\":null,\"isPlain\":false,\"isValidLegacyIssueTemplate\":false,\"issueTemplate\":null,\"discussionTemplate\":null,\"language\":\"Text\",\"languageID\":372,\"large\":false,\"planSupportInfo\":{\"repoIsFork\":null,\"repoOwnedByCurrentUser\":null,\"requestFullPath\":\"/dustywhite7', 'Econ8320', 'blob', 'master', 'AssignmentData', 'publish_action_from_dockerfile\",\"releasePath\":\"/dustywhite7', 'Econ8320', 'new?marketplace', 'true\",\"showPublishActionBanner\":false},\"rawBlobUrl\":\"https://github.com', 'dustywhite7', 'Econ8320', 'master', 'AssignmentData', 'prideAndPrejudiceChapters.txt\",\"renderImageOrRaw\":false,\"richText\":null,\"renderedFileInfo\":null,\"shortPath\":null,\"symbolsEnabled\":true,\"tabSize\":8,\"topBannersInfo\":{\"overridingGlobalFundingFile\":false,\"globalPreferredFundingPath\":null,\"showInvalidCitationWarning\":false,\"citationHelpUrl\":\"https://docs.github.com', 'github', 'Econ8320', 'odFCVoHbREu7AbzRx_wOHYIBQqhFwQfpxDf_jt8obWGQRLA5BqQ\"},\"/repos', 'AssignmentData', 'prideAndPrejudiceChapters.txt', 'master', 'dustywhite7', 'Econ8320\",\"appPayload\":{\"helpUrl\":\"https://docs.github.com\",\"findFileWorkerPath\":\"/assets', 'div', 'f6', 'h2', \"class='sr\", \"only'>Footer</h2\", 'href=\"https://github.com', 'svg', 'aria', 'viewBox=\"0', 'version=\"1.1', 'width=\"24', 'octicon', 'github', 'd=\"M8', '0-.27.01', '1.13.01', '0-.75-.25', '1.23-.54', '3.65-.88', '0-.88-.31', '1.02-.08', '0-.67-.22', '1.32-.27', '1.1-.16', '1.92-.08', '1.28-.82', '1.61.55', '2.69.94', '.21-.15.45-.55.38A7.995', 'span', 'copy', 'GitHub,&nbsp;Inc', '<', 'nav', 'aria', 'navigation</h3', 'mb', 'aria', 'li', 'class=\"mx-2', 'Terms&quot;,&quot;label&quot;:&quot;text', 'href=\"https://docs.github.com', 'github', 'github', '<', 'li', 'class=\"mx-2', 'privacy&quot', 'href=\"https://docs.github.com', 'github', 'Link\">Privacy</a', '<', 'li', 'class=\"mx-2', 'security&quot;,&quot;label&quot;:&quot;text', 'security&quot', 'Link\">Security</a', '<', 'li', 'class=\"mx-2', 'status&quot;,&quot;label&quot;:&quot;text', 'href=\"https://www.githubstatus.com/', 'Link\">Status</a', '<', 'li', 'class=\"mx-2', 'docs&quot', 'Link\">Docs</a', '<', 'li', 'class=\"mx-2', 'contact&quot;,&quot;label&quot;:&quot;text', 'contact&quot', 'Link\">Contact</a', 'li', 'class=\"mr-3', 'type=\"button', 'border-0', 'p-0', 'Manage', 'li', 'class=\"mr-3', 'type=\"button', 'border-0', 'p-0', 'bottom-0', 'left-0', 'style=\"z', 'svg', 'aria', 'viewBox=\"0', 'version=\"1.1', 'width=\"16', '0l6.082', '0', '0L1.698', 'type=\"button', 'svg', 'aria', 'viewBox=\"0', 'version=\"1.1', 'width=\"16', 'octicon', '0', '1.042L6.94', 'hx_rsm', 'role=\"button', 'aria', 'class=\"Box', 'Box', 'hx_rsm', 'dialog', 'hx_rsm', 'button', 'class=\"Box', 'btn', 'octicon', 'm-0', 'btn', 'right-0', 'type=\"button', 'aria', 'svg', 'aria', 'viewBox=\"0', 'version=\"1.1', 'width=\"16', 'octicon', '0', '1.042L6.94', '/button', 'dialog', '/template', 'div', 'js', 'tabindex=\"0', 'Box', 'id=\"snippet', 'right-0', 'top-0', 'aria', 'label=\"Copy', 'class=\"ClipboardButton', 'js', 'm-2', 'p-0', 'svg', 'aria', 'viewBox=\"0', 'version=\"1.1', 'width=\"16', 'octicon', 'js', 'm-2', 'd=\"M0', '6.75C0', 'd=\"M5', 'svg', 'aria', 'viewBox=\"0', 'version=\"1.1', 'width=\"16', 'path', 'd=\"M13.78', '4.22a.75.75', '0L2.22', '/template', 'id=\"snippet', 'class=\"zeroclipboard', 'aria', 'label=\"Copy', 'class=\"ClipboardButton', 'btn', 'm-2', 'p-0', 'svg', 'aria', 'viewBox=\"0', 'version=\"1.1', 'width=\"16', 'octicon', 'js', 'd=\"M0', '6.75C0', 'd=\"M5', 'svg', 'aria', 'viewBox=\"0', 'version=\"1.1', 'width=\"16', 'path', 'd=\"M13.78', '4.22a.75.75', '0L2.22', '/template', 'aria']\n"
          ]
        }
      ]
    },
    {
      "cell_type": "code",
      "source": [],
      "metadata": {
        "id": "D5ST_5kcXmdg"
      },
      "execution_count": null,
      "outputs": []
    }
  ],
  "metadata": {
    "celltoolbar": "Create Assignment",
    "colab": {
      "provenance": []
    },
    "kernelspec": {
      "display_name": "Python 3 (ipykernel)",
      "language": "python",
      "name": "python3"
    },
    "language_info": {
      "codemirror_mode": {
        "name": "ipython",
        "version": 3
      },
      "file_extension": ".py",
      "mimetype": "text/x-python",
      "name": "python",
      "nbconvert_exporter": "python",
      "pygments_lexer": "ipython3",
      "version": "3.9.13"
    }
  },
  "nbformat": 4,
  "nbformat_minor": 0
}